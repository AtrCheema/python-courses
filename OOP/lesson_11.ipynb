{
  "nbformat": 4,
  "nbformat_minor": 0,
  "metadata": {
    "colab": {
      "name": "lesson_11.ipynb",
      "provenance": [],
      "collapsed_sections": [],
      "authorship_tag": "ABX9TyOsv4CReCmo/H5wMZ/EtfNO",
      "include_colab_link": true
    },
    "kernelspec": {
      "name": "python3",
      "display_name": "Python 3"
    }
  },
  "cells": [
    {
      "cell_type": "markdown",
      "metadata": {
        "id": "view-in-github",
        "colab_type": "text"
      },
      "source": [
        "<a href=\"https://colab.research.google.com/github/AtrCheema/python-courses/blob/master/OOP/lesson_11.ipynb\" target=\"_parent\"><img src=\"https://colab.research.google.com/assets/colab-badge.svg\" alt=\"Open In Colab\"/></a>"
      ]
    },
    {
      "cell_type": "markdown",
      "metadata": {
        "id": "v7n6zY7Y-e4M",
        "colab_type": "text"
      },
      "source": [
        "# Property\n",
        "\n",
        "Let's say we have a for human body metabolism which has temperature as one of its parameters(attributes) and we want to have controle over this parameter in such a way that we can set the temperature from outside as well while the model itself also changes the temperature parameter when it is run."
      ]
    },
    {
      "cell_type": "code",
      "metadata": {
        "colab_type": "code",
        "outputId": "92b5f8b6-1a0a-4057-de87-7e1e8fd5b237",
        "id": "hgfiTAZKW7hU",
        "colab": {
          "base_uri": "https://localhost:8080/",
          "height": 54
        }
      },
      "source": [
        "class Model:\n",
        "\n",
        "    def __init__(self, temp):\n",
        "        self.temp = temp\n",
        "    \n",
        "x = Model(39)\n",
        "print(x.temp)\n",
        "\n",
        "x.temp = 35\n",
        "print(x.temp)"
      ],
      "execution_count": 1,
      "outputs": [
        {
          "output_type": "stream",
          "text": [
            "39\n",
            "35\n"
          ],
          "name": "stdout"
        }
      ]
    },
    {
      "cell_type": "markdown",
      "metadata": {
        "id": "Ta75i7TmlefL",
        "colab_type": "text"
      },
      "source": [
        "Thus we can set the temperature from outside the class.\n",
        "\n",
        "But what if after some time we want to set certain condition on temperature attribute such as the tempeperature should never be above 45 degrees and below 20 degrees."
      ]
    },
    {
      "cell_type": "code",
      "metadata": {
        "id": "Srlu8THuW8S0",
        "colab_type": "code",
        "colab": {
          "base_uri": "https://localhost:8080/",
          "height": 35
        },
        "outputId": "0b4d8e89-0969-4b8b-80d8-a2bfa295097c"
      },
      "source": [
        "class Model:\n",
        "\n",
        "    def __init__(self, temp):\n",
        "        self.set_temp(temp)\n",
        "    \n",
        "    def set_temp(self, x):\n",
        "        if x>45:\n",
        "            x = 45\n",
        "        if x < -20:\n",
        "            x = -20\n",
        "        self.temp = x\n",
        "    \n",
        "    def get_temp(self):\n",
        "        return self.temp\n",
        "\n",
        "x = Model(39)\n",
        "print(x.temp)"
      ],
      "execution_count": 2,
      "outputs": [
        {
          "output_type": "stream",
          "text": [
            "39\n"
          ],
          "name": "stdout"
        }
      ]
    },
    {
      "cell_type": "markdown",
      "metadata": {
        "id": "IjuOrleu2qX1",
        "colab_type": "text"
      },
      "source": [
        "We can set the temperature as before but then we may violate the condition as well"
      ]
    },
    {
      "cell_type": "code",
      "metadata": {
        "id": "RemA6rpHYFXc",
        "colab_type": "code",
        "colab": {
          "base_uri": "https://localhost:8080/",
          "height": 35
        },
        "outputId": "8d96f931-c644-4fb3-cd2e-eb6d0710b129"
      },
      "source": [
        "x.temp = 55\n",
        "print(x.temp)"
      ],
      "execution_count": 3,
      "outputs": [
        {
          "output_type": "stream",
          "text": [
            "55\n"
          ],
          "name": "stdout"
        }
      ]
    },
    {
      "cell_type": "markdown",
      "metadata": {
        "id": "CGTZO2zn3I_B",
        "colab_type": "text"
      },
      "source": [
        "In order to set the temperature, we have to now make use of method `set_temp`."
      ]
    },
    {
      "cell_type": "code",
      "metadata": {
        "id": "oD9oKLHUYKHj",
        "colab_type": "code",
        "colab": {
          "base_uri": "https://localhost:8080/",
          "height": 35
        },
        "outputId": "4b68f4a1-da1e-468f-e7f0-3c2c5530f325"
      },
      "source": [
        "x.set_temp(55)\n",
        "print(x.temp)"
      ],
      "execution_count": 4,
      "outputs": [
        {
          "output_type": "stream",
          "text": [
            "45\n"
          ],
          "name": "stdout"
        }
      ]
    },
    {
      "cell_type": "markdown",
      "metadata": {
        "id": "_FHc2vGLaxQx",
        "colab_type": "text"
      },
      "source": [
        "if we want to change the temperature value based upon its current value, we can do as following"
      ]
    },
    {
      "cell_type": "code",
      "metadata": {
        "id": "P1xQ_8s5YvRq",
        "colab_type": "code",
        "colab": {
          "base_uri": "https://localhost:8080/",
          "height": 54
        },
        "outputId": "89c8dea2-4013-437d-99f6-018fe448e0d7"
      },
      "source": [
        "print(x.get_temp())\n",
        "x.set_temp(x.get_temp()*0.9)\n",
        "print(x.get_temp())"
      ],
      "execution_count": 5,
      "outputs": [
        {
          "output_type": "stream",
          "text": [
            "45\n",
            "40.5\n"
          ],
          "name": "stdout"
        }
      ]
    },
    {
      "cell_type": "markdown",
      "metadata": {
        "id": "AK5HhBImbJAJ",
        "colab_type": "text"
      },
      "source": [
        "we were able to decrease the temperature but there are two problems.\n",
        "\n",
        "* First the statement `x.set_temp(x.get_temp()*0.9)` does not look so elegant, it would have been much better and clearer if we could do like `x.temp = x.temp*0.9`.\n",
        "\n",
        "* There are two ways to set and get temperature which is against the [zen of python](https://www.python.org/dev/peps/pep-0020/) which states `There should be one-- and preferably only one --obvious way to do it`.\n",
        "\n",
        "Based upon above discussion we would have liked `temp` to behave like attribute (`x.temp`) but still be able to perform some checks on it behind the scene (which we could do by `x.temp()`) and there should be only one way to set and get its value as well. \n",
        "\n",
        "We can solve the second problem by making `temp` a private attribute i.e. by making it `__temp`, and then we have to use only setters `x.set_temp()` and getters `x.get_temp`."
      ]
    },
    {
      "cell_type": "code",
      "metadata": {
        "id": "T5Yev1mV7xCd",
        "colab_type": "code",
        "colab": {
          "base_uri": "https://localhost:8080/",
          "height": 54
        },
        "outputId": "aa40b3b9-4e09-4ed1-f7cd-e19e289f8ef7"
      },
      "source": [
        "class Model:\n",
        "\n",
        "    def __init__(self, temp):\n",
        "        self.set_temp(temp)\n",
        "    \n",
        "    def set_temp(self, x):\n",
        "        if x>45:\n",
        "            x = 45\n",
        "        if x < 20:\n",
        "            x = 20\n",
        "        self.__temp = x\n",
        "    \n",
        "    def get_temp(self):\n",
        "        return self.__temp\n",
        "\n",
        "x = Model(39)\n",
        "print(x.get_temp())\n",
        "\n",
        "x.set_temp(55)\n",
        "print(x.get_temp())"
      ],
      "execution_count": 6,
      "outputs": [
        {
          "output_type": "stream",
          "text": [
            "39\n",
            "45\n"
          ],
          "name": "stdout"
        }
      ]
    },
    {
      "cell_type": "markdown",
      "metadata": {
        "id": "prpmY2yw8uS3",
        "colab_type": "text"
      },
      "source": [
        "But python provides a better solution to solve both of above two problems i.e. the `@property` decorator."
      ]
    },
    {
      "cell_type": "code",
      "metadata": {
        "id": "B78N9_RFduqX",
        "colab_type": "code",
        "colab": {
          "base_uri": "https://localhost:8080/",
          "height": 54
        },
        "outputId": "f68b7365-0b87-4cb6-9bc9-be7cf1226b0e"
      },
      "source": [
        "class Model:\n",
        "\n",
        "    def __init__(self, temp):\n",
        "        self.temp = temp\n",
        "\n",
        "    @property\n",
        "    def temp(self):\n",
        "        # get temperature from the model through some process\n",
        "        return self._temp\n",
        "\n",
        "    @temp.setter\n",
        "    def temp(self, x):\n",
        "        if x>45:\n",
        "            x = 45\n",
        "        if x < 20:\n",
        "            x = 20\n",
        "        self._temp = x\n",
        "        return\n",
        "    \n",
        "\n",
        "\n",
        "x = Model(39)\n",
        "print(x.temp)\n",
        "\n",
        "x.temp = x.temp*0.9\n",
        "print(x.temp)"
      ],
      "execution_count": 7,
      "outputs": [
        {
          "output_type": "stream",
          "text": [
            "39\n",
            "35.1\n"
          ],
          "name": "stdout"
        }
      ]
    },
    {
      "cell_type": "markdown",
      "metadata": {
        "id": "y_ri_jFc9Gr-",
        "colab_type": "text"
      },
      "source": [
        "Just a side note, we don't have provide the default value of `temp` upon class initiation. We can make the method to get the current temperature state of the model. In many cases our model will be saved in an external file. For simplicity, suppose, our model is saved as dictionary `MODEL`. We can make use of property to manipulate `temp`."
      ]
    },
    {
      "cell_type": "code",
      "metadata": {
        "id": "m7kj7MnC9X3c",
        "colab_type": "code",
        "colab": {
          "base_uri": "https://localhost:8080/",
          "height": 54
        },
        "outputId": "ad14a135-5f69-447b-fd2e-c5e7deb73b18"
      },
      "source": [
        "MODEL = {'temp': 39}\n",
        "\n",
        "\n",
        "class Model:\n",
        "\n",
        "    def __init__(self):\n",
        "        pass \n",
        "\n",
        "    \n",
        "    @property\n",
        "    def temp(self):\n",
        "        # get temperature from the model through some process\n",
        "        t = MODEL['temp']\n",
        "        return t\n",
        "\n",
        "    @temp.setter\n",
        "    def temp(self, x):\n",
        "        if x>45:\n",
        "            x = 45\n",
        "        if x < 20:\n",
        "            x = 20\n",
        "        MODEL['temp'] = x\n",
        "        return\n",
        "    \n",
        "\n",
        "\n",
        "x = Model()\n",
        "print(x.temp)\n",
        "\n",
        "x.temp = x.temp*0.9\n",
        "print(x.temp)\n",
        "\n",
        "# run the model and check the temperature again"
      ],
      "execution_count": 8,
      "outputs": [
        {
          "output_type": "stream",
          "text": [
            "39\n",
            "35.1\n"
          ],
          "name": "stdout"
        }
      ]
    },
    {
      "cell_type": "code",
      "metadata": {
        "id": "5tt6F--a99iU",
        "colab_type": "code",
        "colab": {
          "base_uri": "https://localhost:8080/",
          "height": 35
        },
        "outputId": "c58e2f5f-7559-4e21-e521-68ee49cd0e15"
      },
      "source": [
        "MODEL"
      ],
      "execution_count": 9,
      "outputs": [
        {
          "output_type": "execute_result",
          "data": {
            "text/plain": [
              "{'temp': 35.1}"
            ]
          },
          "metadata": {
            "tags": []
          },
          "execution_count": 9
        }
      ]
    }
  ]
}