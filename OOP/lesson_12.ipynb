{
  "nbformat": 4,
  "nbformat_minor": 0,
  "metadata": {
    "colab": {
      "name": "lesson_12.ipynb",
      "provenance": [],
      "collapsed_sections": [],
      "authorship_tag": "ABX9TyMVCPKHBTzxzmIWA+5XviSG",
      "include_colab_link": true
    },
    "kernelspec": {
      "name": "python3",
      "display_name": "Python 3"
    }
  },
  "cells": [
    {
      "cell_type": "markdown",
      "metadata": {
        "id": "view-in-github",
        "colab_type": "text"
      },
      "source": [
        "<a href=\"https://colab.research.google.com/github/AtrCheema/python-courses/blob/master/OOP/lesson_12.ipynb\" target=\"_parent\"><img src=\"https://colab.research.google.com/assets/colab-badge.svg\" alt=\"Open In Colab\"/></a>"
      ]
    },
    {
      "cell_type": "markdown",
      "metadata": {
        "id": "v7n6zY7Y-e4M",
        "colab_type": "text"
      },
      "source": [
        "# Descriptors\n",
        "\n",
        "Descriptor are another way to control, what happens when a value of an attribute is set or accessed. We do it while making a class with at least one of `__get__`, `__set__` and `__del__` methods."
      ]
    },
    {
      "cell_type": "code",
      "metadata": {
        "id": "sMxwsfKrndNy",
        "colab_type": "code",
        "colab": {
          "base_uri": "https://localhost:8080/",
          "height": 54
        },
        "outputId": "3edd9441-476e-4d1c-a35b-5d98e32d5440"
      },
      "source": [
        "class MyDescriptor(object):\n",
        "    \"\"\"\n",
        "    Basic descriptor to set and get value.\n",
        "    \"\"\"\n",
        "\n",
        "    def __init__(self, initval=None):\n",
        "        print(\"__init__ of MyDescriptor called with initial value: \", initval)\n",
        "        self.__set__(self, initval)\n",
        "\n",
        "    def __get__(self, instance, owner):\n",
        "        print(instance, owner)\n",
        "        print('Getting  self.val: ', self.val)\n",
        "        return self.val\n",
        "\n",
        "    def __set__(self, instance, value):\n",
        "        print('Setting self.val to ', value)\n",
        "        self.val = value\n",
        "\n",
        "class Model(object):\n",
        "    \n",
        "    temp = MyDescriptor(37)    # Desccriptor is attached at class definition time \n",
        "\n",
        "body = Model()"
      ],
      "execution_count": 1,
      "outputs": [
        {
          "output_type": "stream",
          "text": [
            "__init__ of MyDescriptor called with initial value:  37\n",
            "Setting self.val to  37\n"
          ],
          "name": "stdout"
        }
      ]
    },
    {
      "cell_type": "code",
      "metadata": {
        "id": "SuNEXdFinroh",
        "colab_type": "code",
        "colab": {
          "base_uri": "https://localhost:8080/",
          "height": 72
        },
        "outputId": "c4990079-33cb-4919-e1d1-e3017def7ed1"
      },
      "source": [
        "body.temp    # a function call is hiding here"
      ],
      "execution_count": 2,
      "outputs": [
        {
          "output_type": "stream",
          "text": [
            "<__main__.Model object at 0x7fcefba7f550> <class '__main__.Model'>\n",
            "Getting  self.val:  37\n"
          ],
          "name": "stdout"
        },
        {
          "output_type": "execute_result",
          "data": {
            "text/plain": [
              "37"
            ]
          },
          "metadata": {
            "tags": []
          },
          "execution_count": 2
        }
      ]
    },
    {
      "cell_type": "code",
      "metadata": {
        "id": "iYZ_gdxPnkkz",
        "colab_type": "code",
        "colab": {
          "base_uri": "https://localhost:8080/",
          "height": 35
        },
        "outputId": "369101bf-e64a-4e81-c9a0-36201dd5a807"
      },
      "source": [
        "body.temp = 38 # a function call is hiding here"
      ],
      "execution_count": 3,
      "outputs": [
        {
          "output_type": "stream",
          "text": [
            "Setting self.val to  38\n"
          ],
          "name": "stdout"
        }
      ]
    },
    {
      "cell_type": "code",
      "metadata": {
        "id": "J-pk1u8Qnsj6",
        "colab_type": "code",
        "colab": {
          "base_uri": "https://localhost:8080/",
          "height": 72
        },
        "outputId": "9db08818-1c0b-4059-a027-f6049203a523"
      },
      "source": [
        "body.temp"
      ],
      "execution_count": 4,
      "outputs": [
        {
          "output_type": "stream",
          "text": [
            "<__main__.Model object at 0x7fcefba7f550> <class '__main__.Model'>\n",
            "Getting  self.val:  38\n"
          ],
          "name": "stdout"
        },
        {
          "output_type": "execute_result",
          "data": {
            "text/plain": [
              "38"
            ]
          },
          "metadata": {
            "tags": []
          },
          "execution_count": 4
        }
      ]
    },
    {
      "cell_type": "markdown",
      "metadata": {
        "id": "vt5kRh0npQ8N",
        "colab_type": "text"
      },
      "source": [
        "Thus we see when we get the value of attribute `temp`, the method `__get__` in `MyDescriptor` gets executed and similarly when we set a value to attribute `temp`, the method `__set__` in `MyDescriptor` gets executed."
      ]
    },
    {
      "cell_type": "markdown",
      "metadata": {
        "id": "t46QQjXUo5ao",
        "colab_type": "text"
      },
      "source": [
        "In `__get__` method, instance is `body` and and owner is `Model`. "
      ]
    },
    {
      "cell_type": "markdown",
      "metadata": {
        "id": "RNBJOmUbvREm",
        "colab_type": "text"
      },
      "source": [
        "If we want to know what attributes are stored in `__dict__` of class and instance, we can do as following"
      ]
    },
    {
      "cell_type": "code",
      "metadata": {
        "id": "836NtMsnqfrB",
        "colab_type": "code",
        "colab": {
          "base_uri": "https://localhost:8080/",
          "height": 35
        },
        "outputId": "9ca2d5eb-6e53-4872-cef8-3537a190e887"
      },
      "source": [
        "body.__dict__"
      ],
      "execution_count": 5,
      "outputs": [
        {
          "output_type": "execute_result",
          "data": {
            "text/plain": [
              "{}"
            ]
          },
          "metadata": {
            "tags": []
          },
          "execution_count": 5
        }
      ]
    },
    {
      "cell_type": "markdown",
      "metadata": {
        "id": "nAtAJTzsYdMI",
        "colab_type": "text"
      },
      "source": [
        "The `__get__` and `__set__` of descriptor can be applied only on those attributes which are present in `__dict__` of owner class i.e. `Model` in this case."
      ]
    },
    {
      "cell_type": "code",
      "metadata": {
        "id": "oCFPQFFgqkr_",
        "colab_type": "code",
        "colab": {
          "base_uri": "https://localhost:8080/",
          "height": 109
        },
        "outputId": "c5687520-110d-4bde-d381-8de9274fb63b"
      },
      "source": [
        "# alternvative to print(Model.__dict__)\n",
        "for key, val in Model.__dict__.items():\n",
        "    print(key,': ', val)     "
      ],
      "execution_count": 6,
      "outputs": [
        {
          "output_type": "stream",
          "text": [
            "__module__ :  __main__\n",
            "temp :  <__main__.MyDescriptor object at 0x7fcefba7f4e0>\n",
            "__dict__ :  <attribute '__dict__' of 'Model' objects>\n",
            "__weakref__ :  <attribute '__weakref__' of 'Model' objects>\n",
            "__doc__ :  None\n"
          ],
          "name": "stdout"
        }
      ]
    },
    {
      "cell_type": "code",
      "metadata": {
        "id": "YTG0-H3Hq9N8",
        "colab_type": "code",
        "colab": {
          "base_uri": "https://localhost:8080/",
          "height": 183
        },
        "outputId": "bf48523f-e14c-4800-d952-4d80de7be0d8"
      },
      "source": [
        "# alternative to print(MyDescriptor.__dict__)\n",
        "for key, val in MyDescriptor.__dict__.items():\n",
        "    print(key, ': ', val)"
      ],
      "execution_count": 7,
      "outputs": [
        {
          "output_type": "stream",
          "text": [
            "__module__ :  __main__\n",
            "__doc__ :  \n",
            "    Basic descriptor to set and get value.\n",
            "    \n",
            "__init__ :  <function MyDescriptor.__init__ at 0x7fcefc2d9ea0>\n",
            "__get__ :  <function MyDescriptor.__get__ at 0x7fcefba790d0>\n",
            "__set__ :  <function MyDescriptor.__set__ at 0x7fcefba79158>\n",
            "__dict__ :  <attribute '__dict__' of 'MyDescriptor' objects>\n",
            "__weakref__ :  <attribute '__weakref__' of 'MyDescriptor' objects>\n"
          ],
          "name": "stdout"
        }
      ]
    },
    {
      "cell_type": "markdown",
      "metadata": {
        "id": "rH19ccNqwzgc",
        "colab_type": "text"
      },
      "source": [
        "We can call `get` from class and its instance but `set` can and should only be class from instance. If we do it from class, this means overriding descriptor."
      ]
    },
    {
      "cell_type": "code",
      "metadata": {
        "id": "SnqRgXL2vCl6",
        "colab_type": "code",
        "colab": {
          "base_uri": "https://localhost:8080/",
          "height": 72
        },
        "outputId": "18a80d96-71d0-48bf-f14f-90710a1a88f3"
      },
      "source": [
        "Model.temp"
      ],
      "execution_count": 8,
      "outputs": [
        {
          "output_type": "stream",
          "text": [
            "None <class '__main__.Model'>\n",
            "Getting  self.val:  38\n"
          ],
          "name": "stdout"
        },
        {
          "output_type": "execute_result",
          "data": {
            "text/plain": [
              "38"
            ]
          },
          "metadata": {
            "tags": []
          },
          "execution_count": 8
        }
      ]
    },
    {
      "cell_type": "code",
      "metadata": {
        "id": "9MvtpCakwhie",
        "colab_type": "code",
        "colab": {
          "base_uri": "https://localhost:8080/",
          "height": 35
        },
        "outputId": "4b1f206f-a44c-4956-8779-1076e3c7bd52"
      },
      "source": [
        "Model.temp = \"useless\"\n",
        "Model.temp"
      ],
      "execution_count": 9,
      "outputs": [
        {
          "output_type": "execute_result",
          "data": {
            "text/plain": [
              "'useless'"
            ]
          },
          "metadata": {
            "tags": []
          },
          "execution_count": 9
        }
      ]
    },
    {
      "cell_type": "code",
      "metadata": {
        "id": "if2mB2T8ww7B",
        "colab_type": "code",
        "colab": {
          "base_uri": "https://localhost:8080/",
          "height": 35
        },
        "outputId": "33bc6cf3-6666-4057-8b17-9fe00f00ac9c"
      },
      "source": [
        "body.temp"
      ],
      "execution_count": 10,
      "outputs": [
        {
          "output_type": "execute_result",
          "data": {
            "text/plain": [
              "'useless'"
            ]
          },
          "metadata": {
            "tags": []
          },
          "execution_count": 10
        }
      ]
    },
    {
      "cell_type": "markdown",
      "metadata": {
        "id": "lJY1gTd3Ero0",
        "colab_type": "text"
      },
      "source": [
        "This means we should do some type checking before assigning a vlaue to an attribute.\n",
        "\n",
        "Consider `descriptor` from another angle below."
      ]
    },
    {
      "cell_type": "code",
      "metadata": {
        "id": "HdUIP1Cq4RXF",
        "colab_type": "code",
        "colab": {
          "base_uri": "https://localhost:8080/",
          "height": 54
        },
        "outputId": "be428b8d-98ab-44e9-ef0b-e3a34c040301"
      },
      "source": [
        "class LazyDescriptor(object):\n",
        "    def __init__(self, name, inival):\n",
        "        self._val = inival\n",
        "        self.name = name\n",
        "    \n",
        "    def __get__(self, instance, owner):\n",
        "        print('get in descriptor called')\n",
        "        instance.__dict__[self.name] = self._val\n",
        "        return self._val\n",
        "\n",
        "class Model(object):\n",
        "    temp = LazyDescriptor(\"temp\", 37)\n",
        "\n",
        "body = Model()\n",
        "body.temp"
      ],
      "execution_count": 11,
      "outputs": [
        {
          "output_type": "stream",
          "text": [
            "get in descriptor called\n"
          ],
          "name": "stdout"
        },
        {
          "output_type": "execute_result",
          "data": {
            "text/plain": [
              "37"
            ]
          },
          "metadata": {
            "tags": []
          },
          "execution_count": 11
        }
      ]
    },
    {
      "cell_type": "code",
      "metadata": {
        "id": "_nkab3CK5uPZ",
        "colab_type": "code",
        "colab": {
          "base_uri": "https://localhost:8080/",
          "height": 35
        },
        "outputId": "933bbba8-a171-4c3d-cc62-02e94adb08c9"
      },
      "source": [
        "body.temp"
      ],
      "execution_count": 12,
      "outputs": [
        {
          "output_type": "execute_result",
          "data": {
            "text/plain": [
              "37"
            ]
          },
          "metadata": {
            "tags": []
          },
          "execution_count": 12
        }
      ]
    },
    {
      "cell_type": "markdown",
      "metadata": {
        "id": "r4yw_HnXzkm5",
        "colab_type": "text"
      },
      "source": [
        "So the first time we referenced temp, it called the descriptor but not the second time. Let's look at the `__dict__` for better understanding."
      ]
    },
    {
      "cell_type": "code",
      "metadata": {
        "id": "Dgq4xvUyz5eB",
        "colab_type": "code",
        "colab": {
          "base_uri": "https://localhost:8080/",
          "height": 35
        },
        "outputId": "1399319a-ad1b-45f5-ae8c-9067cc53509b"
      },
      "source": [
        "body = Model()\n",
        "body.__dict__"
      ],
      "execution_count": 13,
      "outputs": [
        {
          "output_type": "execute_result",
          "data": {
            "text/plain": [
              "{}"
            ]
          },
          "metadata": {
            "tags": []
          },
          "execution_count": 13
        }
      ]
    },
    {
      "cell_type": "code",
      "metadata": {
        "id": "NguS6geEz-S-",
        "colab_type": "code",
        "colab": {
          "base_uri": "https://localhost:8080/",
          "height": 35
        },
        "outputId": "f515f92a-1f86-4483-e226-ea74d1f3d04a"
      },
      "source": [
        "body.temp\n",
        "body.__dict__"
      ],
      "execution_count": 14,
      "outputs": [
        {
          "output_type": "execute_result",
          "data": {
            "text/plain": [
              "{'temp': 37}"
            ]
          },
          "metadata": {
            "tags": []
          },
          "execution_count": 14
        }
      ]
    },
    {
      "cell_type": "code",
      "metadata": {
        "id": "slyiFXgb0DfQ",
        "colab_type": "code",
        "colab": {
          "base_uri": "https://localhost:8080/",
          "height": 35
        },
        "outputId": "964b38bb-c307-4c44-e96e-4c0df15efea6"
      },
      "source": [
        "body.temp\n",
        "body.__dict__"
      ],
      "execution_count": 15,
      "outputs": [
        {
          "output_type": "execute_result",
          "data": {
            "text/plain": [
              "{'temp': 37}"
            ]
          },
          "metadata": {
            "tags": []
          },
          "execution_count": 15
        }
      ]
    },
    {
      "cell_type": "markdown",
      "metadata": {
        "id": "jnzQCW_j0Omm",
        "colab_type": "text"
      },
      "source": [
        "So when we tried to access the value of `x` for the first time, the `key` was not in `obj.__dict__` so the descriptors `__get__` was called but when it is already present, the `__get__` from descriptor was not called. This is because of order in which python looks for attributes of objects. For complete sequence of rules [see](http://simeonfranklin.com/talk/descriptors.html#slide-42)\n",
        "\n",
        "We can acheive exactly same by another way as well."
      ]
    },
    {
      "cell_type": "code",
      "metadata": {
        "id": "odkX7SJ0rVmn",
        "colab_type": "code",
        "colab": {}
      },
      "source": [
        "class LazyProperty(object):\n",
        "    def __init__(self, val):\n",
        "        self._val = val\n",
        "        self.name = val.__name__\n",
        "\n",
        "    def __get__(self, instance, owner):\n",
        "        print(\"get in descriptor called\")\n",
        "        result = self._val(instance)\n",
        "        instance.__dict__[self.name] = result\n",
        "        return result\n",
        "\n",
        "class Model(object):\n",
        "    @LazyProperty\n",
        "    def temp(self):\n",
        "        return 42\n",
        "\n",
        "body = Model()"
      ],
      "execution_count": 0,
      "outputs": []
    },
    {
      "cell_type": "code",
      "metadata": {
        "id": "KtReJ7ifzEXn",
        "colab_type": "code",
        "colab": {
          "base_uri": "https://localhost:8080/",
          "height": 54
        },
        "outputId": "e7d82b8e-4615-4c40-9adf-35da90f507d4"
      },
      "source": [
        "body.temp"
      ],
      "execution_count": 17,
      "outputs": [
        {
          "output_type": "stream",
          "text": [
            "get in descriptor called\n"
          ],
          "name": "stdout"
        },
        {
          "output_type": "execute_result",
          "data": {
            "text/plain": [
              "42"
            ]
          },
          "metadata": {
            "tags": []
          },
          "execution_count": 17
        }
      ]
    },
    {
      "cell_type": "code",
      "metadata": {
        "id": "fkbX-Kc4y8dm",
        "colab_type": "code",
        "colab": {
          "base_uri": "https://localhost:8080/",
          "height": 35
        },
        "outputId": "466bb432-744f-4cfd-926f-447d61a5a19b"
      },
      "source": [
        "body.temp"
      ],
      "execution_count": 18,
      "outputs": [
        {
          "output_type": "execute_result",
          "data": {
            "text/plain": [
              "42"
            ]
          },
          "metadata": {
            "tags": []
          },
          "execution_count": 18
        }
      ]
    },
    {
      "cell_type": "markdown",
      "metadata": {
        "id": "YDkteI33Q17F",
        "colab_type": "text"
      },
      "source": [
        "## Usage cases\n",
        "Suppose we define a class which takes the `name`, `weight` and `height` as input/for initiation and has a method to calculate body mass index i.e. `bmi`."
      ]
    },
    {
      "cell_type": "code",
      "metadata": {
        "id": "t_vHjathN1sn",
        "colab_type": "code",
        "outputId": "bf7946c0-f65e-438b-b654-937149549437",
        "colab": {
          "base_uri": "https://localhost:8080/",
          "height": 35
        }
      },
      "source": [
        "class Insan:\n",
        "    def __init__(self, name, weight, height):\n",
        "        self.name = name\n",
        "        self.weight = weight # in kg\n",
        "        self.height = height # in meters\n",
        "\n",
        "    def bmi(self):\n",
        "        return self.weight/self.height**2\n",
        "\n",
        "ali = Insan('ali', 78, 1.7)\n",
        "ali.bmi()"
      ],
      "execution_count": 19,
      "outputs": [
        {
          "output_type": "execute_result",
          "data": {
            "text/plain": [
              "26.989619377162633"
            ]
          },
          "metadata": {
            "tags": []
          },
          "execution_count": 19
        }
      ]
    },
    {
      "cell_type": "markdown",
      "metadata": {
        "id": "QPFGMotCgG-Z",
        "colab_type": "text"
      },
      "source": [
        "The problem with the above code is that one can assign negative values to weight."
      ]
    },
    {
      "cell_type": "code",
      "metadata": {
        "id": "JMxpn2L_Q_2D",
        "colab_type": "code",
        "outputId": "97d5a188-1ac3-4931-f526-e00eeeee01a2",
        "colab": {
          "base_uri": "https://localhost:8080/",
          "height": 35
        }
      },
      "source": [
        "ali.weight = -10\n",
        "ali.bmi()"
      ],
      "execution_count": 20,
      "outputs": [
        {
          "output_type": "execute_result",
          "data": {
            "text/plain": [
              "-3.4602076124567476"
            ]
          },
          "metadata": {
            "tags": []
          },
          "execution_count": 20
        }
      ]
    },
    {
      "cell_type": "markdown",
      "metadata": {
        "id": "o7CYK6bSgV1Q",
        "colab_type": "text"
      },
      "source": [
        "Definitely it is wrong and we should perform some checks before setting the new value. We can do it by using `property`"
      ]
    },
    {
      "cell_type": "code",
      "metadata": {
        "id": "LydlS-kYREAU",
        "colab_type": "code",
        "outputId": "c705a5c0-37b1-445c-98cc-2d48804d5017",
        "colab": {
          "base_uri": "https://localhost:8080/",
          "height": 358
        }
      },
      "source": [
        "class Insan:\n",
        "    def __init__(self, name, weight, height):\n",
        "        self.name = name\n",
        "        self._weight = weight # in kg\n",
        "        self.height = height # in meters\n",
        "\n",
        "    @property\n",
        "    def weight(self):\n",
        "        return self._weight\n",
        "\n",
        "    @weight.setter\n",
        "    def weight(self, value):\n",
        "        if value < 0:\n",
        "            raise ValueError('weight cannot be negative.')\n",
        "        self._weight = value  \n",
        "\n",
        "\n",
        "    def bmi(self):\n",
        "        return self.weight/self.height**2\n",
        "\n",
        "ali = Insan('ali', 78, 1.7)\n",
        "ali.weight = -80\n",
        "ali.bmi()"
      ],
      "execution_count": 21,
      "outputs": [
        {
          "output_type": "error",
          "ename": "ValueError",
          "evalue": "ignored",
          "traceback": [
            "\u001b[0;31m---------------------------------------------------------------------------\u001b[0m",
            "\u001b[0;31mValueError\u001b[0m                                Traceback (most recent call last)",
            "\u001b[0;32m<ipython-input-21-bc4c069d114b>\u001b[0m in \u001b[0;36m<module>\u001b[0;34m()\u001b[0m\n\u001b[1;32m     20\u001b[0m \u001b[0;34m\u001b[0m\u001b[0m\n\u001b[1;32m     21\u001b[0m \u001b[0mali\u001b[0m \u001b[0;34m=\u001b[0m \u001b[0mInsan\u001b[0m\u001b[0;34m(\u001b[0m\u001b[0;34m'ali'\u001b[0m\u001b[0;34m,\u001b[0m \u001b[0;36m78\u001b[0m\u001b[0;34m,\u001b[0m \u001b[0;36m1.7\u001b[0m\u001b[0;34m)\u001b[0m\u001b[0;34m\u001b[0m\u001b[0;34m\u001b[0m\u001b[0m\n\u001b[0;32m---> 22\u001b[0;31m \u001b[0mali\u001b[0m\u001b[0;34m.\u001b[0m\u001b[0mweight\u001b[0m \u001b[0;34m=\u001b[0m \u001b[0;34m-\u001b[0m\u001b[0;36m80\u001b[0m\u001b[0;34m\u001b[0m\u001b[0;34m\u001b[0m\u001b[0m\n\u001b[0m\u001b[1;32m     23\u001b[0m \u001b[0mali\u001b[0m\u001b[0;34m.\u001b[0m\u001b[0mbmi\u001b[0m\u001b[0;34m(\u001b[0m\u001b[0;34m)\u001b[0m\u001b[0;34m\u001b[0m\u001b[0;34m\u001b[0m\u001b[0m\n",
            "\u001b[0;32m<ipython-input-21-bc4c069d114b>\u001b[0m in \u001b[0;36mweight\u001b[0;34m(self, value)\u001b[0m\n\u001b[1;32m     12\u001b[0m     \u001b[0;32mdef\u001b[0m \u001b[0mweight\u001b[0m\u001b[0;34m(\u001b[0m\u001b[0mself\u001b[0m\u001b[0;34m,\u001b[0m \u001b[0mvalue\u001b[0m\u001b[0;34m)\u001b[0m\u001b[0;34m:\u001b[0m\u001b[0;34m\u001b[0m\u001b[0;34m\u001b[0m\u001b[0m\n\u001b[1;32m     13\u001b[0m         \u001b[0;32mif\u001b[0m \u001b[0mvalue\u001b[0m \u001b[0;34m<\u001b[0m \u001b[0;36m0\u001b[0m\u001b[0;34m:\u001b[0m\u001b[0;34m\u001b[0m\u001b[0;34m\u001b[0m\u001b[0m\n\u001b[0;32m---> 14\u001b[0;31m             \u001b[0;32mraise\u001b[0m \u001b[0mValueError\u001b[0m\u001b[0;34m(\u001b[0m\u001b[0;34m'weight cannot be negative.'\u001b[0m\u001b[0;34m)\u001b[0m\u001b[0;34m\u001b[0m\u001b[0;34m\u001b[0m\u001b[0m\n\u001b[0m\u001b[1;32m     15\u001b[0m         \u001b[0mself\u001b[0m\u001b[0;34m.\u001b[0m\u001b[0m_weight\u001b[0m \u001b[0;34m=\u001b[0m \u001b[0mvalue\u001b[0m  \u001b[0;31m# (2)\u001b[0m\u001b[0;34m\u001b[0m\u001b[0;34m\u001b[0m\u001b[0m\n\u001b[1;32m     16\u001b[0m \u001b[0;34m\u001b[0m\u001b[0m\n",
            "\u001b[0;31mValueError\u001b[0m: weight cannot be negative."
          ]
        }
      ]
    },
    {
      "cell_type": "markdown",
      "metadata": {
        "id": "ih0mZf3-ghAH",
        "colab_type": "text"
      },
      "source": [
        "Thus upon negative weight, it threw error. But `height` can still be assigned a negative value."
      ]
    },
    {
      "cell_type": "code",
      "metadata": {
        "id": "5-lUycHjRNPr",
        "colab_type": "code",
        "colab": {
          "base_uri": "https://localhost:8080/",
          "height": 35
        },
        "outputId": "3d3ffdef-21e1-4509-e855-601fdb3d6a60"
      },
      "source": [
        "ali = Insan('ali', 78, 1.7)\n",
        "ali.height = -1.8\n",
        "ali.height"
      ],
      "execution_count": 23,
      "outputs": [
        {
          "output_type": "execute_result",
          "data": {
            "text/plain": [
              "-1.8"
            ]
          },
          "metadata": {
            "tags": []
          },
          "execution_count": 23
        }
      ]
    },
    {
      "cell_type": "markdown",
      "metadata": {
        "id": "0CMJMFDogqlQ",
        "colab_type": "text"
      },
      "source": [
        "Let's make use of `property` once more."
      ]
    },
    {
      "cell_type": "code",
      "metadata": {
        "id": "SX_8fvu2Rdi0",
        "colab_type": "code",
        "outputId": "57d7f843-4552-4511-cc0b-bd9fdeec75f6",
        "colab": {
          "base_uri": "https://localhost:8080/",
          "height": 339
        }
      },
      "source": [
        "class Insan:\n",
        "    def __init__(self, name, weight, height):\n",
        "        self.name = name\n",
        "        self._weight = weight # in kg\n",
        "        self._height = height # in meters\n",
        "\n",
        "    @property\n",
        "    def weight(self):\n",
        "        return self._weight\n",
        "\n",
        "    @weight.setter\n",
        "    def weight(self, value):\n",
        "        if value < 0:\n",
        "            raise ValueError('weight cannot be negative.')\n",
        "        self._weight = value  \n",
        "\n",
        "    @property\n",
        "    def height(self):\n",
        "        return self._height\n",
        "\n",
        "    @height.setter\n",
        "    def height(self, value):\n",
        "        if value < 0:\n",
        "            raise ValueError('height cannot be negative.')\n",
        "        self._height = value  \n",
        "\n",
        "ali = Insan('Ali', 78, 1.7)\n",
        "ali.weight = -80"
      ],
      "execution_count": 24,
      "outputs": [
        {
          "output_type": "error",
          "ename": "ValueError",
          "evalue": "ignored",
          "traceback": [
            "\u001b[0;31m---------------------------------------------------------------------------\u001b[0m",
            "\u001b[0;31mValueError\u001b[0m                                Traceback (most recent call last)",
            "\u001b[0;32m<ipython-input-24-c1b6a7239cc9>\u001b[0m in \u001b[0;36m<module>\u001b[0;34m()\u001b[0m\n\u001b[1;32m     26\u001b[0m \u001b[0;34m\u001b[0m\u001b[0m\n\u001b[1;32m     27\u001b[0m \u001b[0mali\u001b[0m \u001b[0;34m=\u001b[0m \u001b[0mInsan\u001b[0m\u001b[0;34m(\u001b[0m\u001b[0;34m'Ali'\u001b[0m\u001b[0;34m,\u001b[0m \u001b[0;36m78\u001b[0m\u001b[0;34m,\u001b[0m \u001b[0;36m1.7\u001b[0m\u001b[0;34m)\u001b[0m\u001b[0;34m\u001b[0m\u001b[0;34m\u001b[0m\u001b[0m\n\u001b[0;32m---> 28\u001b[0;31m \u001b[0mali\u001b[0m\u001b[0;34m.\u001b[0m\u001b[0mweight\u001b[0m \u001b[0;34m=\u001b[0m \u001b[0;34m-\u001b[0m\u001b[0;36m80\u001b[0m\u001b[0;34m\u001b[0m\u001b[0;34m\u001b[0m\u001b[0m\n\u001b[0m",
            "\u001b[0;32m<ipython-input-24-c1b6a7239cc9>\u001b[0m in \u001b[0;36mweight\u001b[0;34m(self, value)\u001b[0m\n\u001b[1;32m     12\u001b[0m     \u001b[0;32mdef\u001b[0m \u001b[0mweight\u001b[0m\u001b[0;34m(\u001b[0m\u001b[0mself\u001b[0m\u001b[0;34m,\u001b[0m \u001b[0mvalue\u001b[0m\u001b[0;34m)\u001b[0m\u001b[0;34m:\u001b[0m\u001b[0;34m\u001b[0m\u001b[0;34m\u001b[0m\u001b[0m\n\u001b[1;32m     13\u001b[0m         \u001b[0;32mif\u001b[0m \u001b[0mvalue\u001b[0m \u001b[0;34m<\u001b[0m \u001b[0;36m0\u001b[0m\u001b[0;34m:\u001b[0m\u001b[0;34m\u001b[0m\u001b[0;34m\u001b[0m\u001b[0m\n\u001b[0;32m---> 14\u001b[0;31m             \u001b[0;32mraise\u001b[0m \u001b[0mValueError\u001b[0m\u001b[0;34m(\u001b[0m\u001b[0;34m'weight cannot be negative.'\u001b[0m\u001b[0;34m)\u001b[0m\u001b[0;34m\u001b[0m\u001b[0;34m\u001b[0m\u001b[0m\n\u001b[0m\u001b[1;32m     15\u001b[0m         \u001b[0mself\u001b[0m\u001b[0;34m.\u001b[0m\u001b[0m_weight\u001b[0m \u001b[0;34m=\u001b[0m \u001b[0mvalue\u001b[0m  \u001b[0;31m# (2)\u001b[0m\u001b[0;34m\u001b[0m\u001b[0;34m\u001b[0m\u001b[0m\n\u001b[1;32m     16\u001b[0m \u001b[0;34m\u001b[0m\u001b[0m\n",
            "\u001b[0;31mValueError\u001b[0m: weight cannot be negative."
          ]
        }
      ]
    },
    {
      "cell_type": "markdown",
      "metadata": {
        "id": "dgCeDFRdRxuc",
        "colab_type": "text"
      },
      "source": [
        "But we are repeating our code. Both the properties are essentially doing same thing i.e. throwing errors on negative value assignment, so remember our code should be DRY (do not repeat yourself)\n",
        "\n",
        "To helps us, python has the concept of `descriptors`. We can define a descriptor which can have `set`, `get` and `del` methods. The following code defines the descriptor `NonNegative`. Then inside class `Insan`, we define class attributes and bind them with the descriptor thus making sure that these attributes will always be non-negative otherwise an error will be thrown."
      ]
    },
    {
      "cell_type": "code",
      "metadata": {
        "id": "KUXx-ioNRt4q",
        "colab_type": "code",
        "outputId": "782498bc-0179-4f8a-f3ff-728d1fa0bf2e",
        "colab": {
          "base_uri": "https://localhost:8080/",
          "height": 35
        }
      },
      "source": [
        "class NonNegative:\n",
        "    def __init__(self, name):\n",
        "        # the name attribute is needed because when the NonNegative object is \n",
        "        # created , the assignment to attribute named weigth/height hasn't \n",
        "        # happen yet. Thus, we need to explicitly pass the name weight/height to the\n",
        "        # initializer of the object to use as the key for the instance's __dict__.\n",
        "        self.name = name  \n",
        "    def __get__(self, instance, owner):\n",
        "        # we need to reach into the __dict__ object directly, because the\n",
        "        # builtins would be intercepted\n",
        "        #  by the descriptor protocols too and cause the RecursionError.\n",
        "        return instance.__dict__[self.name]  # getattr(instance, self._name)\n",
        "    def __set__(self, instance, value):\n",
        "        if value < 0:\n",
        "            raise ValueError(\"{} Cannot be negative.\".format(self.name))\n",
        "        # instead of using builtin function getattr and setattr, we need to reach \n",
        "        # into the __dict__ object directly, because the builtins would be intercepted\n",
        "        #  by the descriptor protocols too and cause the RecursionError.\n",
        "        instance.__dict__[self.name] = value  # setattr(instance, self._name, value)\n",
        "\n",
        "class Insan:\n",
        "    weight = NonNegative('weight')  \n",
        "    height = NonNegative('height')\n",
        "\n",
        "    def __init__(self, name, weight, height):\n",
        "        self.name = name\n",
        "        self.weight = weight # in kg\n",
        "        self.height = height # in meters\n",
        "\n",
        "    def bmi(self):\n",
        "        return self.weight/self.height**2\n",
        "\n",
        "ali = Insan('Ali', 78, 1.7)\n",
        "ali.bmi()"
      ],
      "execution_count": 25,
      "outputs": [
        {
          "output_type": "execute_result",
          "data": {
            "text/plain": [
              "26.989619377162633"
            ]
          },
          "metadata": {
            "tags": []
          },
          "execution_count": 25
        }
      ]
    },
    {
      "cell_type": "markdown",
      "metadata": {
        "id": "5swXrUL1hxZm",
        "colab_type": "text"
      },
      "source": [
        "Now we can not assign negative values to attributes `weight` and `height` of class `Insan`."
      ]
    },
    {
      "cell_type": "code",
      "metadata": {
        "id": "FQpmsMY8YJW2",
        "colab_type": "code",
        "outputId": "df90d38c-00ff-4844-f0f0-120532d83b26",
        "colab": {
          "base_uri": "https://localhost:8080/",
          "height": 321
        }
      },
      "source": [
        "ali.weight = -80\n",
        "# ValueError: Cannot be negative"
      ],
      "execution_count": 26,
      "outputs": [
        {
          "output_type": "error",
          "ename": "ValueError",
          "evalue": "ignored",
          "traceback": [
            "\u001b[0;31m---------------------------------------------------------------------------\u001b[0m",
            "\u001b[0;31mValueError\u001b[0m                                Traceback (most recent call last)",
            "\u001b[0;32m<ipython-input-26-5ff5b9042c64>\u001b[0m in \u001b[0;36m<module>\u001b[0;34m()\u001b[0m\n\u001b[0;32m----> 1\u001b[0;31m \u001b[0mali\u001b[0m\u001b[0;34m.\u001b[0m\u001b[0mweight\u001b[0m \u001b[0;34m=\u001b[0m \u001b[0;34m-\u001b[0m\u001b[0;36m80\u001b[0m\u001b[0;34m\u001b[0m\u001b[0;34m\u001b[0m\u001b[0m\n\u001b[0m\u001b[1;32m      2\u001b[0m \u001b[0;31m# ValueError: Cannot be negative\u001b[0m\u001b[0;34m\u001b[0m\u001b[0;34m\u001b[0m\u001b[0;34m\u001b[0m\u001b[0m\n",
            "\u001b[0;32m<ipython-input-25-0f2d141df1bd>\u001b[0m in \u001b[0;36m__set__\u001b[0;34m(self, instance, value)\u001b[0m\n\u001b[1;32m     13\u001b[0m     \u001b[0;32mdef\u001b[0m \u001b[0m__set__\u001b[0m\u001b[0;34m(\u001b[0m\u001b[0mself\u001b[0m\u001b[0;34m,\u001b[0m \u001b[0minstance\u001b[0m\u001b[0;34m,\u001b[0m \u001b[0mvalue\u001b[0m\u001b[0;34m)\u001b[0m\u001b[0;34m:\u001b[0m\u001b[0;34m\u001b[0m\u001b[0;34m\u001b[0m\u001b[0m\n\u001b[1;32m     14\u001b[0m         \u001b[0;32mif\u001b[0m \u001b[0mvalue\u001b[0m \u001b[0;34m<\u001b[0m \u001b[0;36m0\u001b[0m\u001b[0;34m:\u001b[0m\u001b[0;34m\u001b[0m\u001b[0;34m\u001b[0m\u001b[0m\n\u001b[0;32m---> 15\u001b[0;31m             \u001b[0;32mraise\u001b[0m \u001b[0mValueError\u001b[0m\u001b[0;34m(\u001b[0m\u001b[0;34m\"{} Cannot be negative.\"\u001b[0m\u001b[0;34m.\u001b[0m\u001b[0mformat\u001b[0m\u001b[0;34m(\u001b[0m\u001b[0mself\u001b[0m\u001b[0;34m.\u001b[0m\u001b[0mname\u001b[0m\u001b[0;34m)\u001b[0m\u001b[0;34m)\u001b[0m\u001b[0;34m\u001b[0m\u001b[0;34m\u001b[0m\u001b[0m\n\u001b[0m\u001b[1;32m     16\u001b[0m         \u001b[0;31m# instead of using builtin function getattr and setattr, we need to reach\u001b[0m\u001b[0;34m\u001b[0m\u001b[0;34m\u001b[0m\u001b[0;34m\u001b[0m\u001b[0m\n\u001b[1;32m     17\u001b[0m         \u001b[0;31m# into the __dict__ object directly, because the builtins would be intercepted\u001b[0m\u001b[0;34m\u001b[0m\u001b[0;34m\u001b[0m\u001b[0;34m\u001b[0m\u001b[0m\n",
            "\u001b[0;31mValueError\u001b[0m: weight Cannot be negative."
          ]
        }
      ]
    },
    {
      "cell_type": "code",
      "metadata": {
        "id": "Pf7lZ1fMR7GL",
        "colab_type": "code",
        "outputId": "5ac59876-cfbb-47fe-acc7-cf985dc7da94",
        "colab": {
          "base_uri": "https://localhost:8080/",
          "height": 321
        }
      },
      "source": [
        "ali.height = -1.8\n",
        "# ValueError: Cannot be negative"
      ],
      "execution_count": 27,
      "outputs": [
        {
          "output_type": "error",
          "ename": "ValueError",
          "evalue": "ignored",
          "traceback": [
            "\u001b[0;31m---------------------------------------------------------------------------\u001b[0m",
            "\u001b[0;31mValueError\u001b[0m                                Traceback (most recent call last)",
            "\u001b[0;32m<ipython-input-27-a2c26d6b5857>\u001b[0m in \u001b[0;36m<module>\u001b[0;34m()\u001b[0m\n\u001b[0;32m----> 1\u001b[0;31m \u001b[0mali\u001b[0m\u001b[0;34m.\u001b[0m\u001b[0mheight\u001b[0m \u001b[0;34m=\u001b[0m \u001b[0;34m-\u001b[0m\u001b[0;36m1.8\u001b[0m\u001b[0;34m\u001b[0m\u001b[0;34m\u001b[0m\u001b[0m\n\u001b[0m\u001b[1;32m      2\u001b[0m \u001b[0;31m# ValueError: Cannot be negative\u001b[0m\u001b[0;34m\u001b[0m\u001b[0;34m\u001b[0m\u001b[0;34m\u001b[0m\u001b[0m\n",
            "\u001b[0;32m<ipython-input-25-0f2d141df1bd>\u001b[0m in \u001b[0;36m__set__\u001b[0;34m(self, instance, value)\u001b[0m\n\u001b[1;32m     13\u001b[0m     \u001b[0;32mdef\u001b[0m \u001b[0m__set__\u001b[0m\u001b[0;34m(\u001b[0m\u001b[0mself\u001b[0m\u001b[0;34m,\u001b[0m \u001b[0minstance\u001b[0m\u001b[0;34m,\u001b[0m \u001b[0mvalue\u001b[0m\u001b[0;34m)\u001b[0m\u001b[0;34m:\u001b[0m\u001b[0;34m\u001b[0m\u001b[0;34m\u001b[0m\u001b[0m\n\u001b[1;32m     14\u001b[0m         \u001b[0;32mif\u001b[0m \u001b[0mvalue\u001b[0m \u001b[0;34m<\u001b[0m \u001b[0;36m0\u001b[0m\u001b[0;34m:\u001b[0m\u001b[0;34m\u001b[0m\u001b[0;34m\u001b[0m\u001b[0m\n\u001b[0;32m---> 15\u001b[0;31m             \u001b[0;32mraise\u001b[0m \u001b[0mValueError\u001b[0m\u001b[0;34m(\u001b[0m\u001b[0;34m\"{} Cannot be negative.\"\u001b[0m\u001b[0;34m.\u001b[0m\u001b[0mformat\u001b[0m\u001b[0;34m(\u001b[0m\u001b[0mself\u001b[0m\u001b[0;34m.\u001b[0m\u001b[0mname\u001b[0m\u001b[0;34m)\u001b[0m\u001b[0;34m)\u001b[0m\u001b[0;34m\u001b[0m\u001b[0;34m\u001b[0m\u001b[0m\n\u001b[0m\u001b[1;32m     16\u001b[0m         \u001b[0;31m# instead of using builtin function getattr and setattr, we need to reach\u001b[0m\u001b[0;34m\u001b[0m\u001b[0;34m\u001b[0m\u001b[0;34m\u001b[0m\u001b[0m\n\u001b[1;32m     17\u001b[0m         \u001b[0;31m# into the __dict__ object directly, because the builtins would be intercepted\u001b[0m\u001b[0;34m\u001b[0m\u001b[0;34m\u001b[0m\u001b[0;34m\u001b[0m\u001b[0m\n",
            "\u001b[0;31mValueError\u001b[0m: height Cannot be negative."
          ]
        }
      ]
    },
    {
      "cell_type": "markdown",
      "metadata": {
        "id": "2gtg5oX_TFHq",
        "colab_type": "text"
      },
      "source": [
        "### In python 3.6+\n",
        "\n",
        "The `descriptor` definition in python 3.6+ is more flexible."
      ]
    },
    {
      "cell_type": "code",
      "metadata": {
        "id": "n7OEECWtSQxT",
        "colab_type": "code",
        "outputId": "19a25798-6108-4a5a-ce8f-b72c4c2c7e89",
        "colab": {
          "base_uri": "https://localhost:8080/",
          "height": 35
        }
      },
      "source": [
        "class NonNegative:\n",
        "    def __get__(self, instance, owner):\n",
        "        return instance.__dict__[self.name]\n",
        "    def __set__(self, instance, value):\n",
        "        if value < 0:\n",
        "            raise ValueError('Cannot be negative.')\n",
        "        instance.__dict__[self.name] = value\n",
        "\n",
        "    # __set_name__ is called at the time the owning class owner is created.\n",
        "    # The descriptor has been assigned to name. With this protocol, we can now \n",
        "    # remove the __init__  and bind the attribute name to the descriptor\n",
        "    def __set_name__(self, owner, name):\n",
        "        self.name = name\n",
        "\n",
        "class Insan:\n",
        "    weight = NonNegative()\n",
        "    height = NonNegative()\n",
        "\n",
        "    def __init__(self, name, weight, height):\n",
        "        self.name = name\n",
        "        self.weight = weight # in kg\n",
        "        self.height = height # in meters\n",
        "\n",
        "    def bmi(self):\n",
        "        return self.weight/self.height**2\n",
        "\n",
        "ali = Insan('Ali', 78, 1.7)\n",
        "ali.bmi()"
      ],
      "execution_count": 28,
      "outputs": [
        {
          "output_type": "execute_result",
          "data": {
            "text/plain": [
              "26.989619377162633"
            ]
          },
          "metadata": {
            "tags": []
          },
          "execution_count": 28
        }
      ]
    },
    {
      "cell_type": "code",
      "metadata": {
        "id": "wRf3ABFvTaaZ",
        "colab_type": "code",
        "outputId": "12a9353e-8686-4f40-a5e3-d714e8d3af76",
        "colab": {
          "base_uri": "https://localhost:8080/",
          "height": 321
        }
      },
      "source": [
        "ali.weight = -80\n",
        "# ValueError: Cannot be negative"
      ],
      "execution_count": 29,
      "outputs": [
        {
          "output_type": "error",
          "ename": "ValueError",
          "evalue": "ignored",
          "traceback": [
            "\u001b[0;31m---------------------------------------------------------------------------\u001b[0m",
            "\u001b[0;31mValueError\u001b[0m                                Traceback (most recent call last)",
            "\u001b[0;32m<ipython-input-29-5ff5b9042c64>\u001b[0m in \u001b[0;36m<module>\u001b[0;34m()\u001b[0m\n\u001b[0;32m----> 1\u001b[0;31m \u001b[0mali\u001b[0m\u001b[0;34m.\u001b[0m\u001b[0mweight\u001b[0m \u001b[0;34m=\u001b[0m \u001b[0;34m-\u001b[0m\u001b[0;36m80\u001b[0m\u001b[0;34m\u001b[0m\u001b[0;34m\u001b[0m\u001b[0m\n\u001b[0m\u001b[1;32m      2\u001b[0m \u001b[0;31m# ValueError: Cannot be negative\u001b[0m\u001b[0;34m\u001b[0m\u001b[0;34m\u001b[0m\u001b[0;34m\u001b[0m\u001b[0m\n",
            "\u001b[0;32m<ipython-input-28-0b861a51ce31>\u001b[0m in \u001b[0;36m__set__\u001b[0;34m(self, instance, value)\u001b[0m\n\u001b[1;32m      4\u001b[0m     \u001b[0;32mdef\u001b[0m \u001b[0m__set__\u001b[0m\u001b[0;34m(\u001b[0m\u001b[0mself\u001b[0m\u001b[0;34m,\u001b[0m \u001b[0minstance\u001b[0m\u001b[0;34m,\u001b[0m \u001b[0mvalue\u001b[0m\u001b[0;34m)\u001b[0m\u001b[0;34m:\u001b[0m\u001b[0;34m\u001b[0m\u001b[0;34m\u001b[0m\u001b[0m\n\u001b[1;32m      5\u001b[0m         \u001b[0;32mif\u001b[0m \u001b[0mvalue\u001b[0m \u001b[0;34m<\u001b[0m \u001b[0;36m0\u001b[0m\u001b[0;34m:\u001b[0m\u001b[0;34m\u001b[0m\u001b[0;34m\u001b[0m\u001b[0m\n\u001b[0;32m----> 6\u001b[0;31m             \u001b[0;32mraise\u001b[0m \u001b[0mValueError\u001b[0m\u001b[0;34m(\u001b[0m\u001b[0;34m'Cannot be negative.'\u001b[0m\u001b[0;34m)\u001b[0m\u001b[0;34m\u001b[0m\u001b[0;34m\u001b[0m\u001b[0m\n\u001b[0m\u001b[1;32m      7\u001b[0m         \u001b[0minstance\u001b[0m\u001b[0;34m.\u001b[0m\u001b[0m__dict__\u001b[0m\u001b[0;34m[\u001b[0m\u001b[0mself\u001b[0m\u001b[0;34m.\u001b[0m\u001b[0mname\u001b[0m\u001b[0;34m]\u001b[0m \u001b[0;34m=\u001b[0m \u001b[0mvalue\u001b[0m\u001b[0;34m\u001b[0m\u001b[0;34m\u001b[0m\u001b[0m\n\u001b[1;32m      8\u001b[0m \u001b[0;34m\u001b[0m\u001b[0m\n",
            "\u001b[0;31mValueError\u001b[0m: Cannot be negative."
          ]
        }
      ]
    },
    {
      "cell_type": "code",
      "metadata": {
        "id": "qwrzfZXRTYfy",
        "colab_type": "code",
        "outputId": "d987ed3e-d6b0-44bd-b4f1-fb83ff142699",
        "colab": {
          "base_uri": "https://localhost:8080/",
          "height": 321
        }
      },
      "source": [
        "ali.height = -1.8\n",
        "# ValueError: Cannot be negative"
      ],
      "execution_count": 30,
      "outputs": [
        {
          "output_type": "error",
          "ename": "ValueError",
          "evalue": "ignored",
          "traceback": [
            "\u001b[0;31m---------------------------------------------------------------------------\u001b[0m",
            "\u001b[0;31mValueError\u001b[0m                                Traceback (most recent call last)",
            "\u001b[0;32m<ipython-input-30-a2c26d6b5857>\u001b[0m in \u001b[0;36m<module>\u001b[0;34m()\u001b[0m\n\u001b[0;32m----> 1\u001b[0;31m \u001b[0mali\u001b[0m\u001b[0;34m.\u001b[0m\u001b[0mheight\u001b[0m \u001b[0;34m=\u001b[0m \u001b[0;34m-\u001b[0m\u001b[0;36m1.8\u001b[0m\u001b[0;34m\u001b[0m\u001b[0;34m\u001b[0m\u001b[0m\n\u001b[0m\u001b[1;32m      2\u001b[0m \u001b[0;31m# ValueError: Cannot be negative\u001b[0m\u001b[0;34m\u001b[0m\u001b[0;34m\u001b[0m\u001b[0;34m\u001b[0m\u001b[0m\n",
            "\u001b[0;32m<ipython-input-28-0b861a51ce31>\u001b[0m in \u001b[0;36m__set__\u001b[0;34m(self, instance, value)\u001b[0m\n\u001b[1;32m      4\u001b[0m     \u001b[0;32mdef\u001b[0m \u001b[0m__set__\u001b[0m\u001b[0;34m(\u001b[0m\u001b[0mself\u001b[0m\u001b[0;34m,\u001b[0m \u001b[0minstance\u001b[0m\u001b[0;34m,\u001b[0m \u001b[0mvalue\u001b[0m\u001b[0;34m)\u001b[0m\u001b[0;34m:\u001b[0m\u001b[0;34m\u001b[0m\u001b[0;34m\u001b[0m\u001b[0m\n\u001b[1;32m      5\u001b[0m         \u001b[0;32mif\u001b[0m \u001b[0mvalue\u001b[0m \u001b[0;34m<\u001b[0m \u001b[0;36m0\u001b[0m\u001b[0;34m:\u001b[0m\u001b[0;34m\u001b[0m\u001b[0;34m\u001b[0m\u001b[0m\n\u001b[0;32m----> 6\u001b[0;31m             \u001b[0;32mraise\u001b[0m \u001b[0mValueError\u001b[0m\u001b[0;34m(\u001b[0m\u001b[0;34m'Cannot be negative.'\u001b[0m\u001b[0;34m)\u001b[0m\u001b[0;34m\u001b[0m\u001b[0;34m\u001b[0m\u001b[0m\n\u001b[0m\u001b[1;32m      7\u001b[0m         \u001b[0minstance\u001b[0m\u001b[0;34m.\u001b[0m\u001b[0m__dict__\u001b[0m\u001b[0;34m[\u001b[0m\u001b[0mself\u001b[0m\u001b[0;34m.\u001b[0m\u001b[0mname\u001b[0m\u001b[0;34m]\u001b[0m \u001b[0;34m=\u001b[0m \u001b[0mvalue\u001b[0m\u001b[0;34m\u001b[0m\u001b[0;34m\u001b[0m\u001b[0m\n\u001b[1;32m      8\u001b[0m \u001b[0;34m\u001b[0m\u001b[0m\n",
            "\u001b[0;31mValueError\u001b[0m: Cannot be negative."
          ]
        }
      ]
    },
    {
      "cell_type": "markdown",
      "metadata": {
        "id": "1R2zbG61iE_O",
        "colab_type": "text"
      },
      "source": [
        "Let's say, we want to calculate a new quantity say `bmit` which is multiplication of `BMI` with `temperature` in celcius. We can define a property to convert the temperature into celcius, in case the temperature is provided in fahrenheight."
      ]
    },
    {
      "cell_type": "code",
      "metadata": {
        "id": "3ghLT87eTeHi",
        "colab_type": "code",
        "outputId": "5582b55c-0ca6-4bbf-ce47-841a8bc77d77",
        "colab": {
          "base_uri": "https://localhost:8080/",
          "height": 35
        }
      },
      "source": [
        "class NonNegative:\n",
        "\n",
        "    def __get__(self, instance, owner):\n",
        "        return instance.__dict__[self.name]\n",
        "\n",
        "    def __set__(self, instance, value):\n",
        "        if value < 0:\n",
        "            raise ValueError('Cannot be negative.')\n",
        "        instance.__dict__[self.name] = value\n",
        "\n",
        "    def __set_name__(self, owner, name):\n",
        "        self.name = name\n",
        "\n",
        "class Insan:\n",
        "    weight = NonNegative()\n",
        "    height = NonNegative()\n",
        "\n",
        "    def __init__(self, name, weight, height, temp_f):\n",
        "        self.name = name\n",
        "        self.weight = weight # in kg\n",
        "        self.height = height # in meters\n",
        "        self.fahrenheit = temp_f\n",
        "\n",
        "    @property\n",
        "    def celsius(self):\n",
        "        return 5 * (self.fahrenheit - 32) / 9.0\n",
        "\n",
        "    @celsius.setter\n",
        "    def celsius(self, val):\n",
        "        self.fahrenheit = 32 + 9 * val / 5.0\n",
        "\n",
        "    def bmit(self):\n",
        "        return self.weight/self.height**2 * self.celsius\n",
        "\n",
        "ali = Insan('Ali', 78, 1.7, 98.2)\n",
        "ali.bmit()"
      ],
      "execution_count": 32,
      "outputs": [
        {
          "output_type": "execute_result",
          "data": {
            "text/plain": [
              "992.6182237600924"
            ]
          },
          "metadata": {
            "tags": []
          },
          "execution_count": 32
        }
      ]
    },
    {
      "cell_type": "code",
      "metadata": {
        "id": "Ah9pgnyKa3t7",
        "colab_type": "code",
        "outputId": "0ab5fb09-94f3-4314-ddb6-5498ff1736a4",
        "colab": {
          "base_uri": "https://localhost:8080/",
          "height": 35
        }
      },
      "source": [
        "ali.celsius"
      ],
      "execution_count": 33,
      "outputs": [
        {
          "output_type": "execute_result",
          "data": {
            "text/plain": [
              "36.77777777777778"
            ]
          },
          "metadata": {
            "tags": []
          },
          "execution_count": 33
        }
      ]
    },
    {
      "cell_type": "markdown",
      "metadata": {
        "id": "neBd-T6gi2-V",
        "colab_type": "text"
      },
      "source": [
        "But we can also define it as `descriptor` as follows. Furthermore we are also perorming non-negative check in this descriptor as well."
      ]
    },
    {
      "cell_type": "code",
      "metadata": {
        "id": "Yhau3NV7bF48",
        "colab_type": "code",
        "outputId": "dbb2710d-23ce-44ef-a4ba-f11f3ed3dc36",
        "colab": {
          "base_uri": "https://localhost:8080/",
          "height": 35
        }
      },
      "source": [
        "class Celsius:\n",
        "\n",
        "    def __get__(self, instance, owner):\n",
        "        return 5 * (instance.fahrenheit - 32) / 9\n",
        "\n",
        "    def __set__(self, instance, value):\n",
        "        if value < 0:\n",
        "            raise ValueError('Cannot be negative.')\n",
        "        instance.fahrenheit = 32 + 9 * value / 5\n",
        "\n",
        "class NonNegative:\n",
        "\n",
        "    def __get__(self, instance, owner):\n",
        "        return instance.__dict__[self.name]\n",
        "\n",
        "    def __set__(self, instance, value):\n",
        "        if value < 0:\n",
        "            raise ValueError('Cannot be negative.')\n",
        "        instance.__dict__[self.name] = value\n",
        "\n",
        "    def __set_name__(self, owner, name):\n",
        "        self.name = name\n",
        "\n",
        "class Insan:\n",
        "    weight = NonNegative()\n",
        "    height = NonNegative()\n",
        "\n",
        "    celsius = Celsius()\n",
        "\n",
        "    def __init__(self, name, weight, height, temp_f):\n",
        "        self.name = name\n",
        "        self.weight = weight # in kg\n",
        "        self.height = height # in meters\n",
        "        self.fahrenheit = temp_f # temperature in fahrenheit\n",
        "\n",
        "    def bmit(self):\n",
        "        return self.weight/self.height**2 * self.celsius\n",
        "\n",
        "ali = Insan('Ali', 78, 1.7, 98.2)\n",
        "ali.bmit()"
      ],
      "execution_count": 35,
      "outputs": [
        {
          "output_type": "execute_result",
          "data": {
            "text/plain": [
              "992.6182237600924"
            ]
          },
          "metadata": {
            "tags": []
          },
          "execution_count": 35
        }
      ]
    },
    {
      "cell_type": "code",
      "metadata": {
        "id": "yYCtxy_6Hi23",
        "colab_type": "code",
        "colab": {
          "base_uri": "https://localhost:8080/",
          "height": 35
        },
        "outputId": "7e7b53a7-807e-4d6d-fe82-704ef0d9479e"
      },
      "source": [
        "ali.fahrenheit"
      ],
      "execution_count": 36,
      "outputs": [
        {
          "output_type": "execute_result",
          "data": {
            "text/plain": [
              "98.2"
            ]
          },
          "metadata": {
            "tags": []
          },
          "execution_count": 36
        }
      ]
    },
    {
      "cell_type": "code",
      "metadata": {
        "id": "7mOFLP9SHXQt",
        "colab_type": "code",
        "colab": {
          "base_uri": "https://localhost:8080/",
          "height": 35
        },
        "outputId": "9d8a1b86-19ee-41fd-96ce-08132a39f4d9"
      },
      "source": [
        "ali.celsius"
      ],
      "execution_count": 37,
      "outputs": [
        {
          "output_type": "execute_result",
          "data": {
            "text/plain": [
              "36.77777777777778"
            ]
          },
          "metadata": {
            "tags": []
          },
          "execution_count": 37
        }
      ]
    },
    {
      "cell_type": "code",
      "metadata": {
        "id": "p7uksnUab9Fz",
        "colab_type": "code",
        "outputId": "dfbb1008-750f-4b28-dd83-0f49aadb3428",
        "colab": {
          "base_uri": "https://localhost:8080/",
          "height": 302
        }
      },
      "source": [
        "ali.celsius = -30"
      ],
      "execution_count": 38,
      "outputs": [
        {
          "output_type": "error",
          "ename": "ValueError",
          "evalue": "ignored",
          "traceback": [
            "\u001b[0;31m---------------------------------------------------------------------------\u001b[0m",
            "\u001b[0;31mValueError\u001b[0m                                Traceback (most recent call last)",
            "\u001b[0;32m<ipython-input-38-fd530d12c77a>\u001b[0m in \u001b[0;36m<module>\u001b[0;34m()\u001b[0m\n\u001b[0;32m----> 1\u001b[0;31m \u001b[0mali\u001b[0m\u001b[0;34m.\u001b[0m\u001b[0mcelsius\u001b[0m \u001b[0;34m=\u001b[0m \u001b[0;34m-\u001b[0m\u001b[0;36m30\u001b[0m\u001b[0;34m\u001b[0m\u001b[0;34m\u001b[0m\u001b[0m\n\u001b[0m",
            "\u001b[0;32m<ipython-input-35-1d92d4c61544>\u001b[0m in \u001b[0;36m__set__\u001b[0;34m(self, instance, value)\u001b[0m\n\u001b[1;32m      6\u001b[0m     \u001b[0;32mdef\u001b[0m \u001b[0m__set__\u001b[0m\u001b[0;34m(\u001b[0m\u001b[0mself\u001b[0m\u001b[0;34m,\u001b[0m \u001b[0minstance\u001b[0m\u001b[0;34m,\u001b[0m \u001b[0mvalue\u001b[0m\u001b[0;34m)\u001b[0m\u001b[0;34m:\u001b[0m\u001b[0;34m\u001b[0m\u001b[0;34m\u001b[0m\u001b[0m\n\u001b[1;32m      7\u001b[0m         \u001b[0;32mif\u001b[0m \u001b[0mvalue\u001b[0m \u001b[0;34m<\u001b[0m \u001b[0;36m0\u001b[0m\u001b[0;34m:\u001b[0m\u001b[0;34m\u001b[0m\u001b[0;34m\u001b[0m\u001b[0m\n\u001b[0;32m----> 8\u001b[0;31m             \u001b[0;32mraise\u001b[0m \u001b[0mValueError\u001b[0m\u001b[0;34m(\u001b[0m\u001b[0;34m'Cannot be negative.'\u001b[0m\u001b[0;34m)\u001b[0m\u001b[0;34m\u001b[0m\u001b[0;34m\u001b[0m\u001b[0m\n\u001b[0m\u001b[1;32m      9\u001b[0m         \u001b[0minstance\u001b[0m\u001b[0;34m.\u001b[0m\u001b[0mfahrenheit\u001b[0m \u001b[0;34m=\u001b[0m \u001b[0;36m32\u001b[0m \u001b[0;34m+\u001b[0m \u001b[0;36m9\u001b[0m \u001b[0;34m*\u001b[0m \u001b[0mvalue\u001b[0m \u001b[0;34m/\u001b[0m \u001b[0;36m5\u001b[0m\u001b[0;34m\u001b[0m\u001b[0;34m\u001b[0m\u001b[0m\n\u001b[1;32m     10\u001b[0m \u001b[0;34m\u001b[0m\u001b[0m\n",
            "\u001b[0;31mValueError\u001b[0m: Cannot be negative."
          ]
        }
      ]
    },
    {
      "cell_type": "markdown",
      "metadata": {
        "id": "sY_7ksVRJeBt",
        "colab_type": "text"
      },
      "source": [
        "## Trap\n",
        "\n",
        "Because the descriptors are linked with class and not with instance, so when we create a new instance, the values get overridden by new isntance if they are not linked with instance."
      ]
    },
    {
      "cell_type": "code",
      "metadata": {
        "id": "N0HT_r40J2Ih",
        "colab_type": "code",
        "colab": {
          "base_uri": "https://localhost:8080/",
          "height": 54
        },
        "outputId": "501f293a-114e-48ca-f6e8-92fbc9b1491a"
      },
      "source": [
        "class Descriptor:\n",
        "    def __init__(self):\n",
        "        self.__temp = 0\n",
        "\n",
        "    def __get__(self, instance, owner):    \n",
        "        return self.__temp\n",
        "\n",
        "    def __set__(self, instance, value):\n",
        "        if isinstance(float(value), float):\n",
        "            print(value)\n",
        "        else:\n",
        "            raise TypeError(\"Body Temperature must be float or integer\")\n",
        "\n",
        "        if value < 20:\n",
        "            raise ValueError(\"Body Temperature can never be less than 20\")\n",
        "\n",
        "        self.__temp = value\n",
        "\n",
        "    def __set_name__(self, owner, name):\n",
        "        self.name = name\n",
        "\n",
        "class Model:\n",
        "    temp = Descriptor()\n",
        "    def __init__(self,name,weight,temp):\n",
        "        self._name = name\n",
        "        self.weight = weight\n",
        "        self.temp = temp\n",
        "\n",
        "    def __str__(self):\n",
        "        return \"{0} with weight {1} has body temperature {2} Celcius.\".format(self._name,self.weight,self.temp)\n",
        "\n",
        "body1 = Model(\"Ali\",80,40)\n",
        "print(body1)"
      ],
      "execution_count": 39,
      "outputs": [
        {
          "output_type": "stream",
          "text": [
            "40\n",
            "Ali with weight 80 has body temperature 40 Celcius.\n"
          ],
          "name": "stdout"
        }
      ]
    },
    {
      "cell_type": "code",
      "metadata": {
        "id": "IDJug68pOv4v",
        "colab_type": "code",
        "colab": {
          "base_uri": "https://localhost:8080/",
          "height": 35
        },
        "outputId": "42897ebc-d9dc-4bf9-bf3a-f7ad9d14b31e"
      },
      "source": [
        "body1.__dict__ "
      ],
      "execution_count": 42,
      "outputs": [
        {
          "output_type": "execute_result",
          "data": {
            "text/plain": [
              "{'_name': 'Ali', 'weight': 80}"
            ]
          },
          "metadata": {
            "tags": []
          },
          "execution_count": 42
        }
      ]
    },
    {
      "cell_type": "code",
      "metadata": {
        "id": "6R3ymu0ZKVXL",
        "colab_type": "code",
        "colab": {
          "base_uri": "https://localhost:8080/",
          "height": 54
        },
        "outputId": "d37d1e84-dd70-44c1-8d79-6cfc6dbb48e2"
      },
      "source": [
        "body2 = Model(\"Hasan\",75,37)\n",
        "print(body2)"
      ],
      "execution_count": 40,
      "outputs": [
        {
          "output_type": "stream",
          "text": [
            "37\n",
            "Hasan with weight 75 has body temperature 37 Celcius.\n"
          ],
          "name": "stdout"
        }
      ]
    },
    {
      "cell_type": "code",
      "metadata": {
        "id": "xCypkploKjdJ",
        "colab_type": "code",
        "colab": {
          "base_uri": "https://localhost:8080/",
          "height": 35
        },
        "outputId": "f787ccc2-0fbc-42b9-eb5d-84cc1e9027de"
      },
      "source": [
        "print(body1)"
      ],
      "execution_count": 41,
      "outputs": [
        {
          "output_type": "stream",
          "text": [
            "Ali with weight 80 has body temperature 37 Celcius.\n"
          ],
          "name": "stdout"
        }
      ]
    },
    {
      "cell_type": "markdown",
      "metadata": {
        "id": "Ot85IIEgOMMd",
        "colab_type": "text"
      },
      "source": [
        "The solution is to bind the attribute with instance in descriptor as shown below."
      ]
    },
    {
      "cell_type": "code",
      "metadata": {
        "id": "CGMmJujHNm6g",
        "colab_type": "code",
        "colab": {
          "base_uri": "https://localhost:8080/",
          "height": 54
        },
        "outputId": "f5a05341-814d-4037-c13d-8866d6a82eea"
      },
      "source": [
        "class Descriptor:\n",
        "    def __init__(self):\n",
        "        self.__temp = 0\n",
        "\n",
        "    def __get__(self, instance, owner):    \n",
        "        return instance.__dict__[self.name]\n",
        "\n",
        "    def __set__(self, instance, value):\n",
        "        if isinstance(float(value), float):\n",
        "            print(value)\n",
        "        else:\n",
        "            raise TypeError(\"Body Temperature must be float or integer\")\n",
        "\n",
        "        if value < 20:\n",
        "            raise ValueError(\"Body Temperature can never be less than 20\")\n",
        "\n",
        "        instance.__dict__[self.name] = value\n",
        "\n",
        "    def __set_name__(self, owner, name):\n",
        "        self.name = name\n",
        "\n",
        "class Model:\n",
        "    temp = Descriptor()\n",
        "    def __init__(self,name,weight,temp):\n",
        "        self.name = name\n",
        "        self.weight = weight\n",
        "        self.temp = temp\n",
        "\n",
        "    def __str__(self):\n",
        "        return \"{0} with weight {1} has body temperature {2} Celcius.\".format(self.name,self.weight,self.temp)\n",
        "\n",
        "body1 = Model(\"Ali\",80,40)\n",
        "print(body1)"
      ],
      "execution_count": 43,
      "outputs": [
        {
          "output_type": "stream",
          "text": [
            "40\n",
            "Ali with weight 80 has body temperature 40 Celcius.\n"
          ],
          "name": "stdout"
        }
      ]
    },
    {
      "cell_type": "code",
      "metadata": {
        "id": "0l_DQxTUQTUa",
        "colab_type": "code",
        "colab": {
          "base_uri": "https://localhost:8080/",
          "height": 35
        },
        "outputId": "ebb812e5-2180-454a-dbe5-f242aada7e5c"
      },
      "source": [
        "body1.__dict__"
      ],
      "execution_count": 46,
      "outputs": [
        {
          "output_type": "execute_result",
          "data": {
            "text/plain": [
              "{'name': 'Ali', 'temp': 40, 'weight': 80}"
            ]
          },
          "metadata": {
            "tags": []
          },
          "execution_count": 46
        }
      ]
    },
    {
      "cell_type": "code",
      "metadata": {
        "id": "fL2YsRZQN1xX",
        "colab_type": "code",
        "colab": {
          "base_uri": "https://localhost:8080/",
          "height": 54
        },
        "outputId": "fda4914b-b5bf-47ac-f457-fa34a6681b23"
      },
      "source": [
        "body2 = Model(\"Hasan\",75,37)\n",
        "print(body2)"
      ],
      "execution_count": 44,
      "outputs": [
        {
          "output_type": "stream",
          "text": [
            "37\n",
            "Hasan with weight 75 has body temperature 37 Celcius.\n"
          ],
          "name": "stdout"
        }
      ]
    },
    {
      "cell_type": "code",
      "metadata": {
        "id": "DPiAWGLqN5Af",
        "colab_type": "code",
        "colab": {
          "base_uri": "https://localhost:8080/",
          "height": 35
        },
        "outputId": "b14d0994-ff10-4a8c-9ffc-33e5f24115f3"
      },
      "source": [
        "print(body1)"
      ],
      "execution_count": 45,
      "outputs": [
        {
          "output_type": "stream",
          "text": [
            "Ali with weight 80 has body temperature 40 Celcius.\n"
          ],
          "name": "stdout"
        }
      ]
    },
    {
      "cell_type": "markdown",
      "metadata": {
        "id": "3VxNxfGdHyl-",
        "colab_type": "text"
      },
      "source": [
        "## References:\n",
        "The material in this notebook is inspired from following posts\n",
        "* [talk on descriptors](http://simeonfranklin.com/talk/descriptors.html)\n",
        "* [Python course eu website](https://www.python-course.eu/python3_descriptors.php)\n",
        "\n",
        "* [Encapsulation with descriptors](https://pyvideo.org/pycon-us-2013/encapsulation-with-descriptors.html)\n",
        "* [Some great answers on stackoverflow](https://stackoverflow.com/questions/3798835/understanding-get-and-set-and-python-descriptors)\n",
        "\n",
        "* [A post by Daw Ran Liou](https://dev.to/dawranliou/writing-descriptors-in-python-36)\n",
        "\n",
        "* [DataCamp](https://www.datacamp.com/community/tutorials/python-descriptors)"
      ]
    }
  ]
}