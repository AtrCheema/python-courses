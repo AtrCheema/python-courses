{
  "nbformat": 4,
  "nbformat_minor": 0,
  "metadata": {
    "colab": {
      "name": "copying_lists.ipynb",
      "provenance": [],
      "collapsed_sections": [],
      "include_colab_link": true
    },
    "kernelspec": {
      "name": "python3",
      "display_name": "Python 3"
    }
  },
  "cells": [
    {
      "cell_type": "markdown",
      "metadata": {
        "id": "view-in-github",
        "colab_type": "text"
      },
      "source": [
        "<a href=\"https://colab.research.google.com/github/AtrCheema/python-courses/blob/master/basics/copying_lists.ipynb\" target=\"_parent\"><img src=\"https://colab.research.google.com/assets/colab-badge.svg\" alt=\"Open In Colab\"/></a>"
      ]
    },
    {
      "cell_type": "markdown",
      "metadata": {
        "id": "3wYNCAsUl8Vn",
        "colab_type": "text"
      },
      "source": [
        "## Copying List"
      ]
    },
    {
      "cell_type": "code",
      "metadata": {
        "id": "u593d9fYkiK9",
        "colab_type": "code",
        "outputId": "94a4e0ca-af9e-46a2-e46a-6f4f28d4abd4",
        "colab": {
          "base_uri": "https://localhost:8080/",
          "height": 54
        }
      },
      "source": [
        "countries1 = [\"Pakistan\", \"Iran\", \"Turkey\"]\n",
        "countries2 = countries1\n",
        "\n",
        "print(countries1)\n",
        "\n",
        "print(countries2)"
      ],
      "execution_count": 1,
      "outputs": [
        {
          "output_type": "stream",
          "text": [
            "['Pakistan', 'Iran', 'Turkey']\n",
            "['Pakistan', 'Iran', 'Turkey']\n"
          ],
          "name": "stdout"
        }
      ]
    },
    {
      "cell_type": "code",
      "metadata": {
        "id": "yGA-tgcLobPw",
        "colab_type": "code",
        "outputId": "7a21acce-ec1a-4752-f353-c80331075644",
        "colab": {
          "base_uri": "https://localhost:8080/",
          "height": 35
        }
      },
      "source": [
        "print(id(countries1),id(countries2))"
      ],
      "execution_count": 2,
      "outputs": [
        {
          "output_type": "stream",
          "text": [
            "140673898174344 140673898174344\n"
          ],
          "name": "stdout"
        }
      ]
    },
    {
      "cell_type": "code",
      "metadata": {
        "id": "-GzVhuK0o3oN",
        "colab_type": "code",
        "outputId": "bdc07872-dfdc-4b33-b50a-a6cb73513235",
        "colab": {
          "base_uri": "https://localhost:8080/",
          "height": 54
        }
      },
      "source": [
        "countries2 = [\"Qatar\", \"Malaysia\", \"Libanon\"]\n",
        "print(countries1)\n",
        "\n",
        "print(countries2)"
      ],
      "execution_count": 3,
      "outputs": [
        {
          "output_type": "stream",
          "text": [
            "['Pakistan', 'Iran', 'Turkey']\n",
            "['Qatar', 'Malaysia', 'Libanon']\n"
          ],
          "name": "stdout"
        }
      ]
    },
    {
      "cell_type": "code",
      "metadata": {
        "id": "yNkT-aelh4nI",
        "colab_type": "code",
        "colab": {
          "base_uri": "https://localhost:8080/",
          "height": 35
        },
        "outputId": "ac949894-8ea3-4b87-864f-a7f1eeda54d5"
      },
      "source": [
        "print(id(countries1),id(countries2))"
      ],
      "execution_count": 4,
      "outputs": [
        {
          "output_type": "stream",
          "text": [
            "140673898174344 140673898172680\n"
          ],
          "name": "stdout"
        }
      ]
    },
    {
      "cell_type": "markdown",
      "metadata": {
        "id": "Q8u60OAnpanF",
        "colab_type": "text"
      },
      "source": [
        "So the `countries2` list became different from `countries1` when we assigned a new different object to it.\n",
        "\n",
        "What happens when we change the contents of list"
      ]
    },
    {
      "cell_type": "code",
      "metadata": {
        "id": "c4Ir-0K4pPNa",
        "colab_type": "code",
        "outputId": "a5f2b7f9-52cd-4496-e0d6-d871e8a19e3e",
        "colab": {
          "base_uri": "https://localhost:8080/",
          "height": 35
        }
      },
      "source": [
        "countries1 = [\"Pakistan\", \"Iran\", \"Turkey\"]\n",
        "countries2 = countries1\n",
        "\n",
        "print(id(countries1),id(countries2))"
      ],
      "execution_count": 5,
      "outputs": [
        {
          "output_type": "stream",
          "text": [
            "140673897535752 140673897535752\n"
          ],
          "name": "stdout"
        }
      ]
    },
    {
      "cell_type": "code",
      "metadata": {
        "id": "fd3bBam0pzZw",
        "colab_type": "code",
        "outputId": "2932d910-75e4-4950-8571-1eb7f10cdb45",
        "colab": {
          "base_uri": "https://localhost:8080/",
          "height": 35
        }
      },
      "source": [
        "countries2[2] = \"Syria\"\n",
        "print(id(countries1),id(countries2))"
      ],
      "execution_count": 6,
      "outputs": [
        {
          "output_type": "stream",
          "text": [
            "140673897535752 140673897535752\n"
          ],
          "name": "stdout"
        }
      ]
    },
    {
      "cell_type": "code",
      "metadata": {
        "id": "-Lm4i1TyqIfr",
        "colab_type": "code",
        "outputId": "44a96443-6c1f-4ffa-a6b9-40141a1c487e",
        "colab": {
          "base_uri": "https://localhost:8080/",
          "height": 54
        }
      },
      "source": [
        "print(countries1)\n",
        "\n",
        "print(countries2)"
      ],
      "execution_count": 7,
      "outputs": [
        {
          "output_type": "stream",
          "text": [
            "['Pakistan', 'Iran', 'Syria']\n",
            "['Pakistan', 'Iran', 'Syria']\n"
          ],
          "name": "stdout"
        }
      ]
    },
    {
      "cell_type": "markdown",
      "metadata": {
        "id": "CYksIG92kXTn",
        "colab_type": "text"
      },
      "source": [
        "The list `countries1` changed automatically. This is because, we don't have two lists in reality. We have one list with two names. What we did was `in place` change in `countries2` list and did not assign a new object to `countries2`, so the the name `countries2` still points to the same object as `countries1`."
      ]
    },
    {
      "cell_type": "markdown",
      "metadata": {
        "id": "nrwzRtjUlC8X",
        "colab_type": "text"
      },
      "source": [
        "### Copying using slicing\n",
        "\n",
        "The above problem can be avoided by using the slice operator"
      ]
    },
    {
      "cell_type": "code",
      "metadata": {
        "id": "kHfzKQrgkNTf",
        "colab_type": "code",
        "outputId": "e159e8cd-8166-4624-f0be-62a4ac2cd778",
        "colab": {
          "base_uri": "https://localhost:8080/",
          "height": 54
        }
      },
      "source": [
        "countries1 = [\"Pakistan\", \"Iran\", \"Turkey\"]\n",
        "countries2 = countries1[:]\n",
        "countries2[2] = 'Syria'\n",
        "\n",
        "print(countries1)\n",
        "\n",
        "print(countries2)"
      ],
      "execution_count": 8,
      "outputs": [
        {
          "output_type": "stream",
          "text": [
            "['Pakistan', 'Iran', 'Turkey']\n",
            "['Pakistan', 'Iran', 'Syria']\n"
          ],
          "name": "stdout"
        }
      ]
    },
    {
      "cell_type": "code",
      "metadata": {
        "id": "yCUkyVf8lIzV",
        "colab_type": "code",
        "outputId": "57d33f70-d90a-4448-cfe4-45149a43e29a",
        "colab": {
          "base_uri": "https://localhost:8080/",
          "height": 35
        }
      },
      "source": [
        "print(id(countries1), id(countries2))"
      ],
      "execution_count": 9,
      "outputs": [
        {
          "output_type": "stream",
          "text": [
            "140673897536392 140673897535048\n"
          ],
          "name": "stdout"
        }
      ]
    },
    {
      "cell_type": "markdown",
      "metadata": {
        "id": "N0zMiGQANbEG",
        "colab_type": "text"
      },
      "source": [
        "Now `countries1` and `countries2` are not same objects. \n",
        "\n",
        "What about sublists in a list?"
      ]
    },
    {
      "cell_type": "code",
      "metadata": {
        "id": "3-BQxtRSlNR9",
        "colab_type": "code",
        "outputId": "74b1bc4d-0181-4031-aa08-894b736d47f9",
        "colab": {
          "base_uri": "https://localhost:8080/",
          "height": 54
        }
      },
      "source": [
        "countries1 = [\"Pakistan\", \"Iran\", \"Turkey\",[\"Qatar\", \"Malaysia\"]]\n",
        "countries2 = countries1[:]\n",
        "\n",
        "print(countries1)\n",
        "\n",
        "print(countries2)"
      ],
      "execution_count": 10,
      "outputs": [
        {
          "output_type": "stream",
          "text": [
            "['Pakistan', 'Iran', 'Turkey', ['Qatar', 'Malaysia']]\n",
            "['Pakistan', 'Iran', 'Turkey', ['Qatar', 'Malaysia']]\n"
          ],
          "name": "stdout"
        }
      ]
    },
    {
      "cell_type": "code",
      "metadata": {
        "id": "KPFENAlPmPCJ",
        "colab_type": "code",
        "outputId": "75e164b6-9e49-45ba-f554-dbe49ef6f501",
        "colab": {
          "base_uri": "https://localhost:8080/",
          "height": 54
        }
      },
      "source": [
        "countries2[0] = \"Syria\"\n",
        "print(countries1)\n",
        "\n",
        "print(countries2)"
      ],
      "execution_count": 11,
      "outputs": [
        {
          "output_type": "stream",
          "text": [
            "['Pakistan', 'Iran', 'Turkey', ['Qatar', 'Malaysia']]\n",
            "['Syria', 'Iran', 'Turkey', ['Qatar', 'Malaysia']]\n"
          ],
          "name": "stdout"
        }
      ]
    },
    {
      "cell_type": "code",
      "metadata": {
        "id": "CRFaVq_a0eQV",
        "colab_type": "code",
        "outputId": "ddfe0e28-1005-4eb7-dc69-62049e533b1b",
        "colab": {
          "base_uri": "https://localhost:8080/",
          "height": 54
        }
      },
      "source": [
        "countries2[3][1] = \"Iraq\"\n",
        "print(countries1)\n",
        "\n",
        "print(countries2)"
      ],
      "execution_count": 12,
      "outputs": [
        {
          "output_type": "stream",
          "text": [
            "['Pakistan', 'Iran', 'Turkey', ['Qatar', 'Iraq']]\n",
            "['Syria', 'Iran', 'Turkey', ['Qatar', 'Iraq']]\n"
          ],
          "name": "stdout"
        }
      ]
    },
    {
      "cell_type": "markdown",
      "metadata": {
        "id": "lNW8xxQNJHvW",
        "colab_type": "text"
      },
      "source": [
        "So again `countries1` is changed even though we changed only `countries2` list. This is because when we copy a list containing sublists, the sublists are not copied but their reference is copied.\n"
      ]
    },
    {
      "cell_type": "code",
      "metadata": {
        "id": "kn3goH6CNwWt",
        "colab_type": "code",
        "colab": {
          "base_uri": "https://localhost:8080/",
          "height": 35
        },
        "outputId": "8b8e81b5-bbf8-45c8-e358-0f49b7a0214e"
      },
      "source": [
        "print(id(countries1[3]), id(countries2[3]))"
      ],
      "execution_count": 13,
      "outputs": [
        {
          "output_type": "stream",
          "text": [
            "140673898174664 140673898174664\n"
          ],
          "name": "stdout"
        }
      ]
    },
    {
      "cell_type": "markdown",
      "metadata": {
        "id": "lqnF1LmRMYSm",
        "colab_type": "text"
      },
      "source": [
        "The same can be achieved by using `copy` method of `list` object."
      ]
    },
    {
      "cell_type": "code",
      "metadata": {
        "id": "FjT9TNQYLEjy",
        "colab_type": "code",
        "colab": {
          "base_uri": "https://localhost:8080/",
          "height": 35
        },
        "outputId": "6cef0c06-3755-45d7-cd55-1c36205116fe"
      },
      "source": [
        "countries1 = [\"Pakistan\", \"Iran\", \"Turkey\",[\"Qatar\", \"Malaysia\"]]\n",
        "countries2 = countries1.copy()\n",
        "\n",
        "print(id(countries1), id(countries2))"
      ],
      "execution_count": 14,
      "outputs": [
        {
          "output_type": "stream",
          "text": [
            "140673897818248 140673897816584\n"
          ],
          "name": "stdout"
        }
      ]
    },
    {
      "cell_type": "code",
      "metadata": {
        "id": "mbvUWV62MWGL",
        "colab_type": "code",
        "colab": {
          "base_uri": "https://localhost:8080/",
          "height": 54
        },
        "outputId": "8d29de5a-42be-40eb-b892-7c3951688a3c"
      },
      "source": [
        "countries2[3][1] = \"Iraq\"\n",
        "\n",
        "print(countries1)\n",
        "\n",
        "print(countries2)"
      ],
      "execution_count": 15,
      "outputs": [
        {
          "output_type": "stream",
          "text": [
            "['Pakistan', 'Iran', 'Turkey', ['Qatar', 'Iraq']]\n",
            "['Pakistan', 'Iran', 'Turkey', ['Qatar', 'Iraq']]\n"
          ],
          "name": "stdout"
        }
      ]
    },
    {
      "cell_type": "code",
      "metadata": {
        "id": "7l8gp0joN_FX",
        "colab_type": "code",
        "colab": {
          "base_uri": "https://localhost:8080/",
          "height": 35
        },
        "outputId": "79d1a598-90a1-470d-99d3-ab909477fb60"
      },
      "source": [
        "print(id(countries1[3]), id(countries2[3]))"
      ],
      "execution_count": 16,
      "outputs": [
        {
          "output_type": "stream",
          "text": [
            "140673897535816 140673897535816\n"
          ],
          "name": "stdout"
        }
      ]
    },
    {
      "cell_type": "markdown",
      "metadata": {
        "id": "EJaS-o6qO9lD",
        "colab_type": "text"
      },
      "source": [
        "### Using `list` function\n",
        "\n",
        "The `list` function converts a sequence into list, if it is not already a list"
      ]
    },
    {
      "cell_type": "code",
      "metadata": {
        "id": "nFxHx78yMipH",
        "colab_type": "code",
        "colab": {
          "base_uri": "https://localhost:8080/",
          "height": 35
        },
        "outputId": "84b54154-ee51-4076-e447-72266c5d660d"
      },
      "source": [
        "countries1 = [\"Pakistan\", \"Iran\", \"Turkey\",[\"Qatar\", \"Malaysia\"]]\n",
        "countries2 = list(countries1)\n",
        "\n",
        "print(id(countries1), id(countries2))"
      ],
      "execution_count": 17,
      "outputs": [
        {
          "output_type": "stream",
          "text": [
            "140673897816200 140673897535624\n"
          ],
          "name": "stdout"
        }
      ]
    },
    {
      "cell_type": "code",
      "metadata": {
        "id": "EMMB6gn_O3BU",
        "colab_type": "code",
        "colab": {
          "base_uri": "https://localhost:8080/",
          "height": 35
        },
        "outputId": "68e5c65b-5cd8-430e-da47-c78da37de4fa"
      },
      "source": [
        "print(id(countries1[3]), id(countries2[3]))"
      ],
      "execution_count": 18,
      "outputs": [
        {
          "output_type": "stream",
          "text": [
            "140673897536392 140673897536392\n"
          ],
          "name": "stdout"
        }
      ]
    },
    {
      "cell_type": "markdown",
      "metadata": {
        "id": "VGXlm-z4M0YG",
        "colab_type": "text"
      },
      "source": [
        "### using copy module"
      ]
    },
    {
      "cell_type": "code",
      "metadata": {
        "id": "YDoi5WAUPOCp",
        "colab_type": "code",
        "colab": {
          "base_uri": "https://localhost:8080/",
          "height": 35
        },
        "outputId": "67e29bdb-e1b9-4a92-d672-fd860fe848c8"
      },
      "source": [
        "from copy import copy\n",
        "\n",
        "countries1 = [\"Pakistan\", \"Iran\", \"Turkey\",[\"Qatar\", \"Malaysia\"]]\n",
        "countries2 = copy(countries1)\n",
        "\n",
        "print(id(countries1), id(countries2))"
      ],
      "execution_count": 19,
      "outputs": [
        {
          "output_type": "stream",
          "text": [
            "140673897534152 140673898173960\n"
          ],
          "name": "stdout"
        }
      ]
    },
    {
      "cell_type": "code",
      "metadata": {
        "id": "No5TqvFuQHNc",
        "colab_type": "code",
        "colab": {
          "base_uri": "https://localhost:8080/",
          "height": 35
        },
        "outputId": "70b14888-e785-4246-94b1-313b7b30cda7"
      },
      "source": [
        "print(id(countries1[3]), id(countries2[3]))"
      ],
      "execution_count": 20,
      "outputs": [
        {
          "output_type": "stream",
          "text": [
            "140673897819016 140673897819016\n"
          ],
          "name": "stdout"
        }
      ]
    },
    {
      "cell_type": "code",
      "metadata": {
        "id": "s2b-MoZFJGAZ",
        "colab_type": "code",
        "colab": {
          "base_uri": "https://localhost:8080/",
          "height": 35
        },
        "outputId": "854d1c1f-0d69-4c0d-ab1e-7ea95de66cf0"
      },
      "source": [
        "from copy import deepcopy\n",
        "\n",
        "countries1 = [\"Pakistan\", \"Iran\", \"Turkey\",[\"Qatar\", \"Malaysia\"]]\n",
        "\n",
        "countries2 = deepcopy(countries1)\n",
        "\n",
        "print(id(countries1), id(countries2))"
      ],
      "execution_count": 21,
      "outputs": [
        {
          "output_type": "stream",
          "text": [
            "140673897536392 140673897816200\n"
          ],
          "name": "stdout"
        }
      ]
    },
    {
      "cell_type": "markdown",
      "metadata": {
        "id": "29hTnYx2KiN1",
        "colab_type": "text"
      },
      "source": [
        "Now `countries1` and `counries2` are different and also the sublists in both lists are different now."
      ]
    },
    {
      "cell_type": "code",
      "metadata": {
        "id": "Euin40J3KuE3",
        "colab_type": "code",
        "colab": {
          "base_uri": "https://localhost:8080/",
          "height": 35
        },
        "outputId": "5b001d52-03b7-4457-8c44-38f7b745eaba"
      },
      "source": [
        "print(id(countries1[3]), id(countries2[3]))"
      ],
      "execution_count": 22,
      "outputs": [
        {
          "output_type": "stream",
          "text": [
            "140673897818248 140673898069960\n"
          ],
          "name": "stdout"
        }
      ]
    },
    {
      "cell_type": "markdown",
      "metadata": {
        "id": "T7bhMdI2OXTj",
        "colab_type": "text"
      },
      "source": [
        "So if we make change in one sublist, the sublist in other list will not be affected."
      ]
    },
    {
      "cell_type": "code",
      "metadata": {
        "id": "zbymN1vDKxGw",
        "colab_type": "code",
        "colab": {
          "base_uri": "https://localhost:8080/",
          "height": 54
        },
        "outputId": "3f9a8cef-8391-41f4-fa81-7ecf705739f8"
      },
      "source": [
        "countries2[3][1] = \"Iraq\"\n",
        "\n",
        "print(countries1)\n",
        "\n",
        "print(countries2)"
      ],
      "execution_count": 23,
      "outputs": [
        {
          "output_type": "stream",
          "text": [
            "['Pakistan', 'Iran', 'Turkey', ['Qatar', 'Malaysia']]\n",
            "['Pakistan', 'Iran', 'Turkey', ['Qatar', 'Iraq']]\n"
          ],
          "name": "stdout"
        }
      ]
    },
    {
      "cell_type": "markdown",
      "metadata": {
        "id": "C8Wp09BcK2KR",
        "colab_type": "text"
      },
      "source": [
        "but the strings in them are not copied so they still have same id."
      ]
    },
    {
      "cell_type": "code",
      "metadata": {
        "id": "g-gzGAprJ2nl",
        "colab_type": "code",
        "colab": {
          "base_uri": "https://localhost:8080/",
          "height": 35
        },
        "outputId": "b6e18c2e-ec71-4110-8dc4-750a2a3c548c"
      },
      "source": [
        "print(id(countries1[0]), id(countries2[0]))"
      ],
      "execution_count": 24,
      "outputs": [
        {
          "output_type": "stream",
          "text": [
            "140673897537072 140673897537072\n"
          ],
          "name": "stdout"
        }
      ]
    },
    {
      "cell_type": "markdown",
      "metadata": {
        "id": "EffCNt_3Qa_3",
        "colab_type": "text"
      },
      "source": [
        "So `deepcopy` method from `copy` module is the safest way to copy a list when it contain sublists but it is also the slowest one among others.\n",
        "\n",
        "But what if the two sublists in a list are themselves same objects?"
      ]
    },
    {
      "cell_type": "code",
      "metadata": {
        "id": "bvAdpVooQonN",
        "colab_type": "code",
        "colab": {
          "base_uri": "https://localhost:8080/",
          "height": 35
        },
        "outputId": "34a30950-2fc9-4462-ab98-3c37b9219f53"
      },
      "source": [
        "countries1 = [\"Pakistan\", \"Iran\"]\n",
        "b = [countries1,countries1] # there's only 1 object countries1\n",
        "c = deepcopy(b)\n",
        "\n",
        "# check the result\n",
        "c[0] is countries1 # return False, a new object a' is created\n"
      ],
      "execution_count": 25,
      "outputs": [
        {
          "output_type": "execute_result",
          "data": {
            "text/plain": [
              "False"
            ]
          },
          "metadata": {
            "tags": []
          },
          "execution_count": 25
        }
      ]
    },
    {
      "cell_type": "code",
      "metadata": {
        "id": "Qn9mW96XSdku",
        "colab_type": "code",
        "colab": {
          "base_uri": "https://localhost:8080/",
          "height": 35
        },
        "outputId": "048e5a88-fbd6-4735-fc29-e3197ed2df74"
      },
      "source": [
        "c[0] is c[1]"
      ],
      "execution_count": 26,
      "outputs": [
        {
          "output_type": "execute_result",
          "data": {
            "text/plain": [
              "True"
            ]
          },
          "metadata": {
            "tags": []
          },
          "execution_count": 26
        }
      ]
    },
    {
      "cell_type": "markdown",
      "metadata": {
        "id": "JiaFsQh4Xj9j",
        "colab_type": "text"
      },
      "source": [
        "In such a scenario, copying with nested for loops is the safest way. `for loops` will be described later."
      ]
    },
    {
      "cell_type": "code",
      "metadata": {
        "id": "G3x9HhSMSe5m",
        "colab_type": "code",
        "colab": {}
      },
      "source": [
        "countries1 = [\"Pakistan\", \"Iran\"]\n",
        "b = [countries1,countries1] # there's only 1 object countries1\n",
        "\n",
        "c = [[i for i in row] for row in b]"
      ],
      "execution_count": 0,
      "outputs": []
    },
    {
      "cell_type": "code",
      "metadata": {
        "id": "i_UkHc_jXXjv",
        "colab_type": "code",
        "colab": {
          "base_uri": "https://localhost:8080/",
          "height": 35
        },
        "outputId": "46d617cd-f157-4f52-af1a-af41bcf858a7"
      },
      "source": [
        "c[0] is countries1"
      ],
      "execution_count": 28,
      "outputs": [
        {
          "output_type": "execute_result",
          "data": {
            "text/plain": [
              "False"
            ]
          },
          "metadata": {
            "tags": []
          },
          "execution_count": 28
        }
      ]
    },
    {
      "cell_type": "code",
      "metadata": {
        "id": "lV9JhJdbXaYv",
        "colab_type": "code",
        "colab": {
          "base_uri": "https://localhost:8080/",
          "height": 35
        },
        "outputId": "ea1c1ccd-f927-47b8-ae6f-3db5a4e1d7b0"
      },
      "source": [
        "c[0] is c[1]"
      ],
      "execution_count": 29,
      "outputs": [
        {
          "output_type": "execute_result",
          "data": {
            "text/plain": [
              "False"
            ]
          },
          "metadata": {
            "tags": []
          },
          "execution_count": 29
        }
      ]
    }
  ]
}