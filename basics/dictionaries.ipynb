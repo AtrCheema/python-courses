{
  "nbformat": 4,
  "nbformat_minor": 0,
  "metadata": {
    "colab": {
      "name": "dictionaries.ipynb",
      "provenance": [],
      "collapsed_sections": [],
      "include_colab_link": true
    },
    "kernelspec": {
      "name": "python3",
      "display_name": "Python 3"
    }
  },
  "cells": [
    {
      "cell_type": "markdown",
      "metadata": {
        "id": "view-in-github",
        "colab_type": "text"
      },
      "source": [
        "<a href=\"https://colab.research.google.com/github/AtrCheema/python-courses/blob/master/basics/dictionaries.ipynb\" target=\"_parent\"><img src=\"https://colab.research.google.com/assets/colab-badge.svg\" alt=\"Open In Colab\"/></a>"
      ]
    },
    {
      "cell_type": "markdown",
      "metadata": {
        "id": "3wYNCAsUl8Vn",
        "colab_type": "text"
      },
      "source": [
        "# Intro\n",
        "Also known as associative arrays, dictionaries are data types consisting of key and value pairs. Each value in a dictionary is associated with a key, and every key has a value associated with it."
      ]
    },
    {
      "cell_type": "code",
      "metadata": {
        "id": "u593d9fYkiK9",
        "colab_type": "code",
        "outputId": "259428de-b58d-48d5-a9ba-9c9c159b2831",
        "colab": {
          "base_uri": "https://localhost:8080/",
          "height": 35
        }
      },
      "source": [
        "man = {\"name\": \"Baqir -al- Sadr\",\n",
        "       \"born\": 1935,\n",
        "       \"citizenship\": \"Iraq\",\n",
        "       \"died\": 1979}\n",
        "\n",
        "type(man)"
      ],
      "execution_count": 1,
      "outputs": [
        {
          "output_type": "execute_result",
          "data": {
            "text/plain": [
              "dict"
            ]
          },
          "metadata": {
            "tags": []
          },
          "execution_count": 1
        }
      ]
    },
    {
      "cell_type": "markdown",
      "metadata": {
        "id": "hF5jldfvdOpU",
        "colab_type": "text"
      },
      "source": [
        "Each key and value pair must be separated by comman. We can access data from a dictionary as following."
      ]
    },
    {
      "cell_type": "code",
      "metadata": {
        "id": "yGA-tgcLobPw",
        "colab_type": "code",
        "outputId": "4e5cdc0d-9ab0-4dac-eeb9-c10e17905552",
        "colab": {
          "base_uri": "https://localhost:8080/",
          "height": 35
        }
      },
      "source": [
        "man[\"name\"]"
      ],
      "execution_count": 2,
      "outputs": [
        {
          "output_type": "execute_result",
          "data": {
            "text/plain": [
              "'Baqir -al- Sadr'"
            ]
          },
          "metadata": {
            "tags": []
          },
          "execution_count": 2
        }
      ]
    },
    {
      "cell_type": "code",
      "metadata": {
        "id": "-GzVhuK0o3oN",
        "colab_type": "code",
        "outputId": "5bf2330f-2d97-44d5-a346-7b9bd90df6b8",
        "colab": {
          "base_uri": "https://localhost:8080/",
          "height": 35
        }
      },
      "source": [
        "man[\"citizenship\"]"
      ],
      "execution_count": 3,
      "outputs": [
        {
          "output_type": "execute_result",
          "data": {
            "text/plain": [
              "'Iraq'"
            ]
          },
          "metadata": {
            "tags": []
          },
          "execution_count": 3
        }
      ]
    },
    {
      "cell_type": "code",
      "metadata": {
        "id": "yNkT-aelh4nI",
        "colab_type": "code",
        "colab": {
          "base_uri": "https://localhost:8080/",
          "height": 171
        },
        "outputId": "ba86526b-81a8-444e-db66-d819ea6944ae"
      },
      "source": [
        "man[\"city\"]"
      ],
      "execution_count": 4,
      "outputs": [
        {
          "output_type": "error",
          "ename": "KeyError",
          "evalue": "ignored",
          "traceback": [
            "\u001b[0;31m---------------------------------------------------------------------------\u001b[0m",
            "\u001b[0;31mKeyError\u001b[0m                                  Traceback (most recent call last)",
            "\u001b[0;32m<ipython-input-4-df9fcce8a69f>\u001b[0m in \u001b[0;36m<module>\u001b[0;34m()\u001b[0m\n\u001b[0;32m----> 1\u001b[0;31m \u001b[0mman\u001b[0m\u001b[0;34m[\u001b[0m\u001b[0;34m\"city\"\u001b[0m\u001b[0;34m]\u001b[0m\u001b[0;34m\u001b[0m\u001b[0;34m\u001b[0m\u001b[0m\n\u001b[0m",
            "\u001b[0;31mKeyError\u001b[0m: 'city'"
          ]
        }
      ]
    },
    {
      "cell_type": "markdown",
      "metadata": {
        "id": "Q8u60OAnpanF",
        "colab_type": "text"
      },
      "source": [
        "The dictionary `man` does not have a key named `city`, so does the error suggests.\n",
        "\n",
        "The key must be the same object as when it was defined. We can not use indexing for keys such as"
      ]
    },
    {
      "cell_type": "code",
      "metadata": {
        "id": "c4Ir-0K4pPNa",
        "colab_type": "code",
        "outputId": "5c9ee7ed-aa8b-42e4-d7e3-305da3465103",
        "colab": {
          "base_uri": "https://localhost:8080/",
          "height": 171
        }
      },
      "source": [
        "man[0]"
      ],
      "execution_count": 5,
      "outputs": [
        {
          "output_type": "error",
          "ename": "KeyError",
          "evalue": "ignored",
          "traceback": [
            "\u001b[0;31m---------------------------------------------------------------------------\u001b[0m",
            "\u001b[0;31mKeyError\u001b[0m                                  Traceback (most recent call last)",
            "\u001b[0;32m<ipython-input-5-379c40a64fe0>\u001b[0m in \u001b[0;36m<module>\u001b[0;34m()\u001b[0m\n\u001b[0;32m----> 1\u001b[0;31m \u001b[0mman\u001b[0m\u001b[0;34m[\u001b[0m\u001b[0;36m0\u001b[0m\u001b[0;34m]\u001b[0m\u001b[0;34m\u001b[0m\u001b[0;34m\u001b[0m\u001b[0m\n\u001b[0m",
            "\u001b[0;31mKeyError\u001b[0m: 0"
          ]
        }
      ]
    },
    {
      "cell_type": "markdown",
      "metadata": {
        "id": "M8xPSiaWeqmF",
        "colab_type": "text"
      },
      "source": [
        "We can add a new key, value pair in an existing dictionary as following"
      ]
    },
    {
      "cell_type": "code",
      "metadata": {
        "id": "3NbsD1QKfv_N",
        "colab_type": "code",
        "colab": {
          "base_uri": "https://localhost:8080/",
          "height": 35
        },
        "outputId": "e2a9b7a0-f326-42e3-895d-4db28d279017"
      },
      "source": [
        "man[\"city\"] = \"Baghdad\"\n",
        "\n",
        "print(man)"
      ],
      "execution_count": 6,
      "outputs": [
        {
          "output_type": "stream",
          "text": [
            "{'name': 'Baqir -al- Sadr', 'born': 1935, 'citizenship': 'Iraq', 'died': 1979, 'city': 'Baghdad'}\n"
          ],
          "name": "stdout"
        }
      ]
    },
    {
      "cell_type": "markdown",
      "metadata": {
        "id": "9MNKHA_bfDuT",
        "colab_type": "text"
      },
      "source": [
        "Thus we can start with an empty dictionary and populate it later on\n"
      ]
    },
    {
      "cell_type": "code",
      "metadata": {
        "id": "-Lm4i1TyqIfr",
        "colab_type": "code",
        "outputId": "a317dc92-8abf-421a-ec53-1f9d115184cc",
        "colab": {
          "base_uri": "https://localhost:8080/",
          "height": 35
        }
      },
      "source": [
        "man = {}\n",
        "\n",
        "man"
      ],
      "execution_count": 7,
      "outputs": [
        {
          "output_type": "execute_result",
          "data": {
            "text/plain": [
              "{}"
            ]
          },
          "metadata": {
            "tags": []
          },
          "execution_count": 7
        }
      ]
    },
    {
      "cell_type": "code",
      "metadata": {
        "id": "fd3bBam0pzZw",
        "colab_type": "code",
        "outputId": "7a272107-8d9c-40c0-809c-23b7d17f56bf",
        "colab": {
          "base_uri": "https://localhost:8080/",
          "height": 35
        }
      },
      "source": [
        "man[\"city\"] = \"Baghdad\"\n",
        "man[\"name\"] = \"Baqir -al- Sadr\"\n",
        "man[\"born\"] =  1935\n",
        "man[\"citizenship\"]= \"Iraq\"\n",
        "man[\"died\"] = 1979\n",
        "\n",
        "print(man)"
      ],
      "execution_count": 8,
      "outputs": [
        {
          "output_type": "stream",
          "text": [
            "{'city': 'Baghdad', 'name': 'Baqir -al- Sadr', 'born': 1935, 'citizenship': 'Iraq', 'died': 1979}\n"
          ],
          "name": "stdout"
        }
      ]
    },
    {
      "cell_type": "markdown",
      "metadata": {
        "id": "iU_esujgf-rM",
        "colab_type": "text"
      },
      "source": [
        "The values to different keys in a dictionary can be same."
      ]
    },
    {
      "cell_type": "code",
      "metadata": {
        "id": "9JALVMBigIB3",
        "colab_type": "code",
        "colab": {
          "base_uri": "https://localhost:8080/",
          "height": 35
        },
        "outputId": "783edfa2-e156-4ee9-9486-1e3f514996d8"
      },
      "source": [
        "man[\"birth_place\"]  = \"Baghdad\"\n",
        "man[\"burial_place\"] = \"Baghdad\"\n",
        "\n",
        "print(man)"
      ],
      "execution_count": 9,
      "outputs": [
        {
          "output_type": "stream",
          "text": [
            "{'city': 'Baghdad', 'name': 'Baqir -al- Sadr', 'born': 1935, 'citizenship': 'Iraq', 'died': 1979, 'birth_place': 'Baghdad', 'burial_place': 'Baghdad'}\n"
          ],
          "name": "stdout"
        }
      ]
    },
    {
      "cell_type": "markdown",
      "metadata": {
        "id": "T8Ot43SQg-QB",
        "colab_type": "text"
      },
      "source": [
        "But we can not have a dictionary with two or more same keys. If we add a new key with same name, the original key, value will be replaced."
      ]
    },
    {
      "cell_type": "code",
      "metadata": {
        "id": "C213fdKdgSxW",
        "colab_type": "code",
        "colab": {
          "base_uri": "https://localhost:8080/",
          "height": 35
        },
        "outputId": "f6d27163-8703-40b1-9e62-f9aa7b3bd921"
      },
      "source": [
        "man[\"died\"] = 1980\n",
        "print(man)"
      ],
      "execution_count": 10,
      "outputs": [
        {
          "output_type": "stream",
          "text": [
            "{'city': 'Baghdad', 'name': 'Baqir -al- Sadr', 'born': 1935, 'citizenship': 'Iraq', 'died': 1980, 'birth_place': 'Baghdad', 'burial_place': 'Baghdad'}\n"
          ],
          "name": "stdout"
        }
      ]
    },
    {
      "cell_type": "markdown",
      "metadata": {
        "id": "0MGJ7fphhUSs",
        "colab_type": "text"
      },
      "source": [
        "## `type` of keys and values\n",
        "The values in a dictionary can be of any type."
      ]
    },
    {
      "cell_type": "code",
      "metadata": {
        "id": "WZiVcFzchNGh",
        "colab_type": "code",
        "colab": {
          "base_uri": "https://localhost:8080/",
          "height": 35
        },
        "outputId": "99b66d84-3694-4623-86cb-ff56e8691cde"
      },
      "source": [
        "colonies = {\"british\": [\"India\", \"Australia\"],\n",
        "            \"french\": \"Libya\",\n",
        "            \"polish\": 0,\n",
        "            \"german\": 3.5,   # most of their colonies are split and joined into new countires.\n",
        "            \"cuba\": None}\n",
        "\n",
        "print(colonies)"
      ],
      "execution_count": 11,
      "outputs": [
        {
          "output_type": "stream",
          "text": [
            "{'british': ['India', 'Australia'], 'french': 'Libya', 'polish': 0, 'german': 3.5, 'cuba': None}\n"
          ],
          "name": "stdout"
        }
      ]
    },
    {
      "cell_type": "markdown",
      "metadata": {
        "id": "MNIpw89Fi3rj",
        "colab_type": "text"
      },
      "source": [
        "But the keys of a dictionary must be immutable."
      ]
    },
    {
      "cell_type": "code",
      "metadata": {
        "id": "tf-bDtCQirfA",
        "colab_type": "code",
        "colab": {
          "base_uri": "https://localhost:8080/",
          "height": 35
        },
        "outputId": "7f7ec50b-2ab5-4fd3-b202-c1327129c76b"
      },
      "source": [
        "persons = {1: \"Adam\",\n",
        "           \"Two\": \"Eva\"}\n",
        "\n",
        "print(persons)"
      ],
      "execution_count": 12,
      "outputs": [
        {
          "output_type": "stream",
          "text": [
            "{1: 'Adam', 'Two': 'Eva'}\n"
          ],
          "name": "stdout"
        }
      ]
    },
    {
      "cell_type": "code",
      "metadata": {
        "id": "tInl5tOBjUUY",
        "colab_type": "code",
        "colab": {
          "base_uri": "https://localhost:8080/",
          "height": 171
        },
        "outputId": "1df68551-fe96-43ba-c61e-0bfc14fd4813"
      },
      "source": [
        "persons[[0,1]: [\"Adam\", \"Eva\"]]"
      ],
      "execution_count": 13,
      "outputs": [
        {
          "output_type": "error",
          "ename": "TypeError",
          "evalue": "ignored",
          "traceback": [
            "\u001b[0;31m---------------------------------------------------------------------------\u001b[0m",
            "\u001b[0;31mTypeError\u001b[0m                                 Traceback (most recent call last)",
            "\u001b[0;32m<ipython-input-13-b72d2e572802>\u001b[0m in \u001b[0;36m<module>\u001b[0;34m()\u001b[0m\n\u001b[0;32m----> 1\u001b[0;31m \u001b[0mpersons\u001b[0m\u001b[0;34m[\u001b[0m\u001b[0;34m[\u001b[0m\u001b[0;36m0\u001b[0m\u001b[0;34m,\u001b[0m\u001b[0;36m1\u001b[0m\u001b[0;34m]\u001b[0m\u001b[0;34m:\u001b[0m \u001b[0;34m[\u001b[0m\u001b[0;34m\"Adam\"\u001b[0m\u001b[0;34m,\u001b[0m \u001b[0;34m\"Eva\"\u001b[0m\u001b[0;34m]\u001b[0m\u001b[0;34m]\u001b[0m\u001b[0;34m\u001b[0m\u001b[0;34m\u001b[0m\u001b[0m\n\u001b[0m",
            "\u001b[0;31mTypeError\u001b[0m: unhashable type: 'slice'"
          ]
        }
      ]
    },
    {
      "cell_type": "markdown",
      "metadata": {
        "id": "__tEz_ikFNen",
        "colab_type": "text"
      },
      "source": [
        "## Makind a real practical dictionary"
      ]
    },
    {
      "cell_type": "code",
      "metadata": {
        "id": "PD85YkWhji0b",
        "colab_type": "code",
        "colab": {
          "base_uri": "https://localhost:8080/",
          "height": 35
        },
        "outputId": "7f5fc2ff-4507-4233-b211-b44434538e81"
      },
      "source": [
        "ur_per = {\"admi\" : \"mard\", \"aurat\" : \"zan\", \"bacha\":\"tefl\", \"paighambar\": \"paighambar\"}\n",
        "per_ar = {\"admi\" : \"rojol\", \"aurat\" : \"nissa\", \"bacha\":\"tefl\", \"paighambar\": \"paighambar\"}\n",
        "\n",
        "dictionaries = {\"ur_per\" : ur_per, \"per_ar\" : per_ar }\n",
        "word = \"aurat\"\n",
        "print(dictionaries[\"per_ar\"][word])"
      ],
      "execution_count": 14,
      "outputs": [
        {
          "output_type": "stream",
          "text": [
            "nissa\n"
          ],
          "name": "stdout"
        }
      ]
    },
    {
      "cell_type": "code",
      "metadata": {
        "id": "qoAfFiwTk7Ik",
        "colab_type": "code",
        "colab": {
          "base_uri": "https://localhost:8080/",
          "height": 35
        },
        "outputId": "afd9f39f-46ac-4cad-ee50-c0ad62eb634d"
      },
      "source": [
        "word = \"bacha\"\n",
        "print(dictionaries[\"per_ar\"][word])"
      ],
      "execution_count": 15,
      "outputs": [
        {
          "output_type": "stream",
          "text": [
            "tefl\n"
          ],
          "name": "stdout"
        }
      ]
    },
    {
      "cell_type": "markdown",
      "metadata": {
        "id": "qP4LnY3Cma9l",
        "colab_type": "text"
      },
      "source": [
        "# Operations on dictionaries\n",
        "\n",
        "`len`, `del` and `in`"
      ]
    },
    {
      "cell_type": "code",
      "metadata": {
        "id": "UcSnKlMClXDh",
        "colab_type": "code",
        "colab": {
          "base_uri": "https://localhost:8080/",
          "height": 35
        },
        "outputId": "28acd0a1-4f54-4be9-ef3d-1adfa912fcfc"
      },
      "source": [
        "man = {\"name\": \"Baqir -al- Sadr\",\n",
        "       \"born\": 1935,\n",
        "       \"citizenship\": \"Iraq\",\n",
        "       \"died\": 1979}\n",
        "       \n",
        "len(man)"
      ],
      "execution_count": 16,
      "outputs": [
        {
          "output_type": "execute_result",
          "data": {
            "text/plain": [
              "4"
            ]
          },
          "metadata": {
            "tags": []
          },
          "execution_count": 16
        }
      ]
    },
    {
      "cell_type": "code",
      "metadata": {
        "id": "hT1Okg1qmwMh",
        "colab_type": "code",
        "colab": {
          "base_uri": "https://localhost:8080/",
          "height": 35
        },
        "outputId": "bcf1f198-d87d-4e48-e5d2-65e25dbb10b5"
      },
      "source": [
        "\"died\" in man"
      ],
      "execution_count": 17,
      "outputs": [
        {
          "output_type": "execute_result",
          "data": {
            "text/plain": [
              "True"
            ]
          },
          "metadata": {
            "tags": []
          },
          "execution_count": 17
        }
      ]
    },
    {
      "cell_type": "code",
      "metadata": {
        "id": "qtSZPgnvmuRh",
        "colab_type": "code",
        "colab": {
          "base_uri": "https://localhost:8080/",
          "height": 35
        },
        "outputId": "b412d238-4ba4-445e-8f78-a7852be106e8"
      },
      "source": [
        "del man[\"died\"]\n",
        "\"died\" not in man"
      ],
      "execution_count": 18,
      "outputs": [
        {
          "output_type": "execute_result",
          "data": {
            "text/plain": [
              "True"
            ]
          },
          "metadata": {
            "tags": []
          },
          "execution_count": 18
        }
      ]
    },
    {
      "cell_type": "markdown",
      "metadata": {
        "id": "cXO5oNxCnFPO",
        "colab_type": "text"
      },
      "source": [
        "Repeating the above code will result in error."
      ]
    },
    {
      "cell_type": "code",
      "metadata": {
        "id": "Jr8ZFdkKmyW7",
        "colab_type": "code",
        "colab": {
          "base_uri": "https://localhost:8080/",
          "height": 35
        },
        "outputId": "b3e25a67-d4fa-4750-f00b-895f635ec449"
      },
      "source": [
        "\"city\" not in man"
      ],
      "execution_count": 19,
      "outputs": [
        {
          "output_type": "execute_result",
          "data": {
            "text/plain": [
              "True"
            ]
          },
          "metadata": {
            "tags": []
          },
          "execution_count": 19
        }
      ]
    },
    {
      "cell_type": "markdown",
      "metadata": {
        "id": "siUyaRwH3183",
        "colab_type": "text"
      },
      "source": [
        "## `pop`"
      ]
    },
    {
      "cell_type": "code",
      "metadata": {
        "id": "WIRQFhyx3nkr",
        "colab_type": "code",
        "colab": {
          "base_uri": "https://localhost:8080/",
          "height": 35
        },
        "outputId": "c4189583-67f1-4a63-df8b-f0d4bb47817b"
      },
      "source": [
        "man = {\"name\": \"Baqir -al- Sadr\",\n",
        "       \"born\": 1935,\n",
        "       \"citizenship\": \"Iraq\",\n",
        "       \"died\": 1979}\n",
        "    \n",
        "man.pop(\"died\")"
      ],
      "execution_count": 20,
      "outputs": [
        {
          "output_type": "execute_result",
          "data": {
            "text/plain": [
              "1979"
            ]
          },
          "metadata": {
            "tags": []
          },
          "execution_count": 20
        }
      ]
    },
    {
      "cell_type": "code",
      "metadata": {
        "id": "EPtBOMGY3yZy",
        "colab_type": "code",
        "colab": {
          "base_uri": "https://localhost:8080/",
          "height": 35
        },
        "outputId": "d4a4cac8-e058-4f5d-da11-68679026e221"
      },
      "source": [
        "man"
      ],
      "execution_count": 21,
      "outputs": [
        {
          "output_type": "execute_result",
          "data": {
            "text/plain": [
              "{'born': 1935, 'citizenship': 'Iraq', 'name': 'Baqir -al- Sadr'}"
            ]
          },
          "metadata": {
            "tags": []
          },
          "execution_count": 21
        }
      ]
    },
    {
      "cell_type": "code",
      "metadata": {
        "id": "W5-tr-Jt30cj",
        "colab_type": "code",
        "colab": {
          "base_uri": "https://localhost:8080/",
          "height": 171
        },
        "outputId": "b35ac49b-dd3f-46a4-a7d9-576321e210a9"
      },
      "source": [
        "man.pop(\"died\")"
      ],
      "execution_count": 22,
      "outputs": [
        {
          "output_type": "error",
          "ename": "KeyError",
          "evalue": "ignored",
          "traceback": [
            "\u001b[0;31m---------------------------------------------------------------------------\u001b[0m",
            "\u001b[0;31mKeyError\u001b[0m                                  Traceback (most recent call last)",
            "\u001b[0;32m<ipython-input-22-10c045f3ed82>\u001b[0m in \u001b[0;36m<module>\u001b[0;34m()\u001b[0m\n\u001b[0;32m----> 1\u001b[0;31m \u001b[0mman\u001b[0m\u001b[0;34m.\u001b[0m\u001b[0mpop\u001b[0m\u001b[0;34m(\u001b[0m\u001b[0;34m\"died\"\u001b[0m\u001b[0;34m)\u001b[0m\u001b[0;34m\u001b[0m\u001b[0;34m\u001b[0m\u001b[0m\n\u001b[0m",
            "\u001b[0;31mKeyError\u001b[0m: 'died'"
          ]
        }
      ]
    },
    {
      "cell_type": "code",
      "metadata": {
        "id": "1aZSx9sMLX_t",
        "colab_type": "code",
        "colab": {
          "base_uri": "https://localhost:8080/",
          "height": 35
        },
        "outputId": "ba3c2f12-d542-4396-df72-019cc46c4b25"
      },
      "source": [
        "man.pop(\"died\", 1980)"
      ],
      "execution_count": 23,
      "outputs": [
        {
          "output_type": "execute_result",
          "data": {
            "text/plain": [
              "1980"
            ]
          },
          "metadata": {
            "tags": []
          },
          "execution_count": 23
        }
      ]
    },
    {
      "cell_type": "markdown",
      "metadata": {
        "id": "dcEqZ8asLIoD",
        "colab_type": "text"
      },
      "source": [
        "We can use this method to avoid the error of removing the key from a dictionary if the key is not present in dictionary."
      ]
    },
    {
      "cell_type": "code",
      "metadata": {
        "id": "agliYAW54H_x",
        "colab_type": "code",
        "colab": {}
      },
      "source": [
        "man.pop(\"died\", None)"
      ],
      "execution_count": 0,
      "outputs": []
    },
    {
      "cell_type": "code",
      "metadata": {
        "id": "fjuvXNU84KlC",
        "colab_type": "code",
        "colab": {
          "base_uri": "https://localhost:8080/",
          "height": 35
        },
        "outputId": "e5c1c16f-c16a-4ff9-904e-38bdc2f01b9a"
      },
      "source": [
        "man"
      ],
      "execution_count": 25,
      "outputs": [
        {
          "output_type": "execute_result",
          "data": {
            "text/plain": [
              "{'born': 1935, 'citizenship': 'Iraq', 'name': 'Baqir -al- Sadr'}"
            ]
          },
          "metadata": {
            "tags": []
          },
          "execution_count": 25
        }
      ]
    },
    {
      "cell_type": "markdown",
      "metadata": {
        "id": "0uWN0Gxv4Spz",
        "colab_type": "text"
      },
      "source": [
        "## `poopitem`"
      ]
    },
    {
      "cell_type": "code",
      "metadata": {
        "id": "T-PrOH6P4MD3",
        "colab_type": "code",
        "colab": {
          "base_uri": "https://localhost:8080/",
          "height": 35
        },
        "outputId": "a9667253-916f-44f4-8793-5daae7dc8837"
      },
      "source": [
        "man = {\"name\": \"Baqir -al- Sadr\",\n",
        "       \"born\": 1935,\n",
        "       \"citizenship\": \"Iraq\",\n",
        "       \"died\": 1979}\n",
        "    \n",
        "man.popitem()"
      ],
      "execution_count": 26,
      "outputs": [
        {
          "output_type": "execute_result",
          "data": {
            "text/plain": [
              "('died', 1979)"
            ]
          },
          "metadata": {
            "tags": []
          },
          "execution_count": 26
        }
      ]
    },
    {
      "cell_type": "code",
      "metadata": {
        "id": "MBuiXEKw4Z1_",
        "colab_type": "code",
        "colab": {
          "base_uri": "https://localhost:8080/",
          "height": 35
        },
        "outputId": "06c51ac6-1b8c-4797-84e6-6c60c539eba6"
      },
      "source": [
        "man"
      ],
      "execution_count": 27,
      "outputs": [
        {
          "output_type": "execute_result",
          "data": {
            "text/plain": [
              "{'born': 1935, 'citizenship': 'Iraq', 'name': 'Baqir -al- Sadr'}"
            ]
          },
          "metadata": {
            "tags": []
          },
          "execution_count": 27
        }
      ]
    },
    {
      "cell_type": "code",
      "metadata": {
        "id": "YcfdRyjb4b1A",
        "colab_type": "code",
        "colab": {
          "base_uri": "https://localhost:8080/",
          "height": 35
        },
        "outputId": "9d850735-19bc-4aa8-ab10-bc725dfa1d85"
      },
      "source": [
        "man.popitem()"
      ],
      "execution_count": 28,
      "outputs": [
        {
          "output_type": "execute_result",
          "data": {
            "text/plain": [
              "('citizenship', 'Iraq')"
            ]
          },
          "metadata": {
            "tags": []
          },
          "execution_count": 28
        }
      ]
    },
    {
      "cell_type": "code",
      "metadata": {
        "id": "WKLcpUdj4fyp",
        "colab_type": "code",
        "colab": {
          "base_uri": "https://localhost:8080/",
          "height": 35
        },
        "outputId": "1a95fb84-3ba0-4ecd-f1a9-fe4d40061b02"
      },
      "source": [
        "man"
      ],
      "execution_count": 29,
      "outputs": [
        {
          "output_type": "execute_result",
          "data": {
            "text/plain": [
              "{'born': 1935, 'name': 'Baqir -al- Sadr'}"
            ]
          },
          "metadata": {
            "tags": []
          },
          "execution_count": 29
        }
      ]
    },
    {
      "cell_type": "markdown",
      "metadata": {
        "id": "2CUN4_u140Ol",
        "colab_type": "text"
      },
      "source": [
        "## `get`\n",
        "\n",
        "`get` method can also be used for accessing the values in dictionary. It returns `None` if the key is not present and we can set the default value for a key if the value is not already present."
      ]
    },
    {
      "cell_type": "code",
      "metadata": {
        "id": "0ThgRkZR4gv0",
        "colab_type": "code",
        "colab": {}
      },
      "source": [
        "man = {\"name\": \"Baqir -al- Sadr\",\n",
        "       \"born\": 1935,\n",
        "       \"citizenship\": \"Iraq\",\n",
        "       \"died\": 1979}\n",
        "    \n",
        "man.get(\"city\")"
      ],
      "execution_count": 0,
      "outputs": []
    },
    {
      "cell_type": "code",
      "metadata": {
        "id": "OT1Wote_449_",
        "colab_type": "code",
        "colab": {
          "base_uri": "https://localhost:8080/",
          "height": 35
        },
        "outputId": "5217bdcb-47bf-48c3-881a-4c897a7ccb16"
      },
      "source": [
        "man.get(\"city\", \"Baghdad\")"
      ],
      "execution_count": 31,
      "outputs": [
        {
          "output_type": "execute_result",
          "data": {
            "text/plain": [
              "'Baghdad'"
            ]
          },
          "metadata": {
            "tags": []
          },
          "execution_count": 31
        }
      ]
    },
    {
      "cell_type": "markdown",
      "metadata": {
        "id": "TzUwzgG35sam",
        "colab_type": "text"
      },
      "source": [
        "## `copy`\n",
        "\n",
        "Simple object assignment with `=` makes a shallow copy."
      ]
    },
    {
      "cell_type": "code",
      "metadata": {
        "id": "HfiCoRlZ4-SE",
        "colab_type": "code",
        "colab": {
          "base_uri": "https://localhost:8080/",
          "height": 53
        },
        "outputId": "b92a9559-4595-4fe7-a3eb-093116053562"
      },
      "source": [
        "man1 = {\"name\": \"Baqir -al- Sadr\",\n",
        "       \"born\" : 1935,\n",
        "       \"citizenship\": \"Iraq\",\n",
        "       \"died\" : 1979}\n",
        "\n",
        "man2 = man1\n",
        "man2[\"name\"] = \"Mutahri\"\n",
        "\n",
        "print(man1)\n",
        "print(man2)"
      ],
      "execution_count": 32,
      "outputs": [
        {
          "output_type": "stream",
          "text": [
            "{'name': 'Mutahri', 'born': 1935, 'citizenship': 'Iraq', 'died': 1979}\n",
            "{'name': 'Mutahri', 'born': 1935, 'citizenship': 'Iraq', 'died': 1979}\n"
          ],
          "name": "stdout"
        }
      ]
    },
    {
      "cell_type": "code",
      "metadata": {
        "id": "1ZYxtWUC51R_",
        "colab_type": "code",
        "colab": {
          "base_uri": "https://localhost:8080/",
          "height": 53
        },
        "outputId": "ce78d3c7-0ba5-4f22-cf21-b39c28f7a70d"
      },
      "source": [
        "man1 = {\"name\": \"Baqir -al- Sadr\",\n",
        "       \"born\" : 1935,\n",
        "       \"citizenship\": \"Iraq\",\n",
        "       \"died\" : 1979}\n",
        "\n",
        "man2 = man1.copy()\n",
        "\n",
        "man2[\"name\"] = \"Mutahri\"\n",
        "\n",
        "print(man1)\n",
        "print(man2)"
      ],
      "execution_count": 33,
      "outputs": [
        {
          "output_type": "stream",
          "text": [
            "{'name': 'Baqir -al- Sadr', 'born': 1935, 'citizenship': 'Iraq', 'died': 1979}\n",
            "{'name': 'Mutahri', 'born': 1935, 'citizenship': 'Iraq', 'died': 1979}\n"
          ],
          "name": "stdout"
        }
      ]
    },
    {
      "cell_type": "code",
      "metadata": {
        "id": "PAYOD26D6MTO",
        "colab_type": "code",
        "colab": {
          "base_uri": "https://localhost:8080/",
          "height": 53
        },
        "outputId": "26380f33-14e7-476e-a2aa-29c43d64d6b2"
      },
      "source": [
        "men1 = {1: {\"name\": \"Baqir -al- Sadr\", \"born\": 1935, \"citizenship\": \"Iraq\", \"died\": 1980},\n",
        "        2: {\"name\": \"Mutahri\",         \"born\": 1919, \"citizenship\": \"Iran\", \"died\": 1979}\n",
        "}\n",
        "\n",
        "men2 = men1.copy()\n",
        "\n",
        "men2[2][\"name\"] = \"Murtaza Mutahri\"\n",
        "\n",
        "print(men1)\n",
        "print(men2)"
      ],
      "execution_count": 34,
      "outputs": [
        {
          "output_type": "stream",
          "text": [
            "{1: {'name': 'Baqir -al- Sadr', 'born': 1935, 'citizenship': 'Iraq', 'died': 1980}, 2: {'name': 'Murtaza Mutahri', 'born': 1919, 'citizenship': 'Iraq', 'died': 1979}}\n",
            "{1: {'name': 'Baqir -al- Sadr', 'born': 1935, 'citizenship': 'Iraq', 'died': 1980}, 2: {'name': 'Murtaza Mutahri', 'born': 1919, 'citizenship': 'Iraq', 'died': 1979}}\n"
          ],
          "name": "stdout"
        }
      ]
    },
    {
      "cell_type": "markdown",
      "metadata": {
        "id": "Gj7Sbyql7skF",
        "colab_type": "text"
      },
      "source": [
        "so `copy` still makes a shallow copy for dictionary inside the dictionary. Same is true for `list` in the dictioanrys"
      ]
    },
    {
      "cell_type": "code",
      "metadata": {
        "id": "BiIFA4kT6nmI",
        "colab_type": "code",
        "colab": {
          "base_uri": "https://localhost:8080/",
          "height": 53
        },
        "outputId": "d112eb8b-861a-4f7b-eb71-d2094b4bde57"
      },
      "source": [
        "books1 = {\"AlSadr\":  [\"Our Philosophy\", \"Our Economy\"],\n",
        "          \"Mutahri\": [\"Divine Justice\", \"Man and Destiny\" ]\n",
        "}\n",
        "\n",
        "books2 = books1.copy()\n",
        "\n",
        "books2[\"Mutahri\"][1] = \"The goal of life\"\n",
        "print(books1)\n",
        "print(books2)"
      ],
      "execution_count": 35,
      "outputs": [
        {
          "output_type": "stream",
          "text": [
            "{'AlSadr': ['Our Philosophy', 'Our Economy'], 'Mutahri': ['Divine Justice', 'The goal of life']}\n",
            "{'AlSadr': ['Our Philosophy', 'Our Economy'], 'Mutahri': ['Divine Justice', 'The goal of life']}\n"
          ],
          "name": "stdout"
        }
      ]
    },
    {
      "cell_type": "markdown",
      "metadata": {
        "id": "n0kyjoNN_SEx",
        "colab_type": "text"
      },
      "source": [
        "## `update`"
      ]
    },
    {
      "cell_type": "code",
      "metadata": {
        "id": "MH2Hp3J8-zXs",
        "colab_type": "code",
        "colab": {
          "base_uri": "https://localhost:8080/",
          "height": 35
        },
        "outputId": "c9e76cc2-6840-41fc-93dd-026adbdd158b"
      },
      "source": [
        "books = {\"AlSadr\":  [\"Our Philosophy\", \"Our Economy\"],\n",
        "         \"Mutahri\": [\"Divine Justice\", \"Man and Destiny\" ]\n",
        "}\n",
        "\n",
        "new_books = {\"Legenhausen\": [\"Religious pluralism\", \"Hegel's ethics\"]}\n",
        "\n",
        "books.update(new_books)\n",
        "\n",
        "print(books)"
      ],
      "execution_count": 36,
      "outputs": [
        {
          "output_type": "stream",
          "text": [
            "{'AlSadr': ['Our Philosophy', 'Our Economy'], 'Mutahri': ['Divine Justice', 'Man and Destiny'], 'Legenhausen': ['Religious pluralism', \"Hegel's ethics\"]}\n"
          ],
          "name": "stdout"
        }
      ]
    },
    {
      "cell_type": "markdown",
      "metadata": {
        "id": "pjlb4YWlGf-f",
        "colab_type": "text"
      },
      "source": [
        "## Merging dictionaries\n",
        "\n",
        "The update merges one dictionary into other. If we want to keep both dictionaries intact and create a new one by merging them together, we can do them as following (starting from python 3.5)"
      ]
    },
    {
      "cell_type": "code",
      "metadata": {
        "id": "2CfM492_GvnH",
        "colab_type": "code",
        "colab": {
          "base_uri": "https://localhost:8080/",
          "height": 35
        },
        "outputId": "fc6cc12f-3c64-4185-9601-e1a8199ad855"
      },
      "source": [
        "old_books = {\"AlSadr\":  [\"Our Philosophy\", \"Our Economy\"],\n",
        "            \"Mutahri\":  [\"Divine Justice\", \"Man and Destiny\"]\n",
        "}\n",
        "\n",
        "new_books = {\"Legenhausen\": [\"Religious pluralism\", \"Hegel's ethics\"]}\n",
        "\n",
        "books = {**old_books, **new_books}\n",
        "\n",
        "print(books)"
      ],
      "execution_count": 37,
      "outputs": [
        {
          "output_type": "stream",
          "text": [
            "{'AlSadr': ['Our Philosophy', 'Our Economy'], 'Mutahri': ['Divine Justice', 'Man and Destiny'], 'Legenhausen': ['Religious pluralism', \"Hegel's ethics\"]}\n"
          ],
          "name": "stdout"
        }
      ]
    },
    {
      "cell_type": "code",
      "metadata": {
        "id": "J4PiRlJRHEMv",
        "colab_type": "code",
        "colab": {
          "base_uri": "https://localhost:8080/",
          "height": 53
        },
        "outputId": "aedb5f47-e3c4-4469-c0db-551b7f6f4f52"
      },
      "source": [
        "print(old_books)\n",
        "\n",
        "print(new_books)"
      ],
      "execution_count": 38,
      "outputs": [
        {
          "output_type": "stream",
          "text": [
            "{'AlSadr': ['Our Philosophy', 'Our Economy'], 'Mutahri': ['Divine Justice', 'Man and Destiny']}\n",
            "{'Legenhausen': ['Religious pluralism', \"Hegel's ethics\"]}\n"
          ],
          "name": "stdout"
        }
      ]
    },
    {
      "cell_type": "code",
      "metadata": {
        "id": "J2HpXqdVHrmx",
        "colab_type": "code",
        "colab": {
          "base_uri": "https://localhost:8080/",
          "height": 55
        },
        "outputId": "ce42aee7-0be7-4ecc-d759-728d6312627c"
      },
      "source": [
        "books = {**old_books, \"Iqbal\": \"reconstruction\", **new_books}\n",
        "\n",
        "print(books)"
      ],
      "execution_count": 39,
      "outputs": [
        {
          "output_type": "stream",
          "text": [
            "{'AlSadr': ['Our Philosophy', 'Our Economy'], 'Mutahri': ['Divine Justice', 'Man and Destiny'], 'Iqbal': 'reconstruction', 'Legenhausen': ['Religious pluralism', \"Hegel's ethics\"]}\n"
          ],
          "name": "stdout"
        }
      ]
    },
    {
      "cell_type": "markdown",
      "metadata": {
        "id": "3FKLSD38Md5D",
        "colab_type": "text"
      },
      "source": [
        "Double asterik `**`, actually just unpacks the dictionary."
      ]
    },
    {
      "cell_type": "code",
      "metadata": {
        "id": "Op3eWC1GMY_C",
        "colab_type": "code",
        "colab": {
          "base_uri": "https://localhost:8080/",
          "height": 35
        },
        "outputId": "dce802c2-9008-49ac-cc3f-4503d81ba8c6"
      },
      "source": [
        "{'x': 1, **{'y': 2}}"
      ],
      "execution_count": 40,
      "outputs": [
        {
          "output_type": "execute_result",
          "data": {
            "text/plain": [
              "{'x': 1, 'y': 2}"
            ]
          },
          "metadata": {
            "tags": []
          },
          "execution_count": 40
        }
      ]
    },
    {
      "cell_type": "markdown",
      "metadata": {
        "id": "daGNIPFQH1gI",
        "colab_type": "text"
      },
      "source": [
        "For backup compatability, we can use the method that can run on versions before 3.5 as follows"
      ]
    },
    {
      "cell_type": "code",
      "metadata": {
        "id": "1fz0QPk5ICkZ",
        "colab_type": "code",
        "colab": {
          "base_uri": "https://localhost:8080/",
          "height": 35
        },
        "outputId": "462d9ceb-7c28-4217-f850-a9dc4dfea8a4"
      },
      "source": [
        "books = old_books.copy()\n",
        "books.update(new_books)\n",
        "print(books)"
      ],
      "execution_count": 41,
      "outputs": [
        {
          "output_type": "stream",
          "text": [
            "{'AlSadr': ['Our Philosophy', 'Our Economy'], 'Mutahri': ['Divine Justice', 'Man and Destiny'], 'Legenhausen': ['Religious pluralism', \"Hegel's ethics\"]}\n"
          ],
          "name": "stdout"
        }
      ]
    },
    {
      "cell_type": "markdown",
      "metadata": {
        "id": "EvQwgdKdAJdX",
        "colab_type": "text"
      },
      "source": [
        "## Keys and Values"
      ]
    },
    {
      "cell_type": "code",
      "metadata": {
        "id": "JBmZzuimABtI",
        "colab_type": "code",
        "colab": {
          "base_uri": "https://localhost:8080/",
          "height": 53
        },
        "outputId": "4ceb9ffd-f26e-416a-bcd7-3bb76d940c33"
      },
      "source": [
        "keys = books.keys()\n",
        "\n",
        "print(type(keys))\n",
        "print(keys)"
      ],
      "execution_count": 42,
      "outputs": [
        {
          "output_type": "stream",
          "text": [
            "<class 'dict_keys'>\n",
            "dict_keys(['AlSadr', 'Mutahri', 'Legenhausen'])\n"
          ],
          "name": "stdout"
        }
      ]
    },
    {
      "cell_type": "code",
      "metadata": {
        "id": "eqgFRG2xAPuR",
        "colab_type": "code",
        "colab": {
          "base_uri": "https://localhost:8080/",
          "height": 53
        },
        "outputId": "1a135397-d9f1-4bcd-d4da-d180484aee32"
      },
      "source": [
        "keys = list(keys)\n",
        "print(type(keys))\n",
        "print(keys)"
      ],
      "execution_count": 43,
      "outputs": [
        {
          "output_type": "stream",
          "text": [
            "<class 'list'>\n",
            "['AlSadr', 'Mutahri', 'Legenhausen']\n"
          ],
          "name": "stdout"
        }
      ]
    },
    {
      "cell_type": "code",
      "metadata": {
        "id": "GfBESye7AVNN",
        "colab_type": "code",
        "colab": {
          "base_uri": "https://localhost:8080/",
          "height": 53
        },
        "outputId": "a28e230d-ba8d-488e-c145-83d3bd07e8aa"
      },
      "source": [
        "values = books.values()\n",
        "\n",
        "values = list(values)\n",
        "print(type(values))\n",
        "print(values)"
      ],
      "execution_count": 44,
      "outputs": [
        {
          "output_type": "stream",
          "text": [
            "<class 'list'>\n",
            "[['Our Philosophy', 'Our Economy'], ['Divine Justice', 'Man and Destiny'], ['Religious pluralism', \"Hegel's ethics\"]]\n"
          ],
          "name": "stdout"
        }
      ]
    },
    {
      "cell_type": "code",
      "metadata": {
        "id": "H92_IGXyAls8",
        "colab_type": "code",
        "colab": {
          "base_uri": "https://localhost:8080/",
          "height": 72
        },
        "outputId": "ef8a2a96-8a15-4373-c159-aea378c1c32e"
      },
      "source": [
        "books_as_list = list(books.items())\n",
        "\n",
        "books_as_list"
      ],
      "execution_count": 45,
      "outputs": [
        {
          "output_type": "execute_result",
          "data": {
            "text/plain": [
              "[('AlSadr', ['Our Philosophy', 'Our Economy']),\n",
              " ('Mutahri', ['Divine Justice', 'Man and Destiny']),\n",
              " ('Legenhausen', ['Religious pluralism', \"Hegel's ethics\"])]"
            ]
          },
          "metadata": {
            "tags": []
          },
          "execution_count": 45
        }
      ]
    },
    {
      "cell_type": "code",
      "metadata": {
        "id": "HGevWUBGA-Jc",
        "colab_type": "code",
        "colab": {
          "base_uri": "https://localhost:8080/",
          "height": 53
        },
        "outputId": "c5efabc6-2991-4623-ebfd-ba9c2493ddef"
      },
      "source": [
        "print(type(books_as_list[0]))\n",
        "\n",
        "print(books_as_list[0])"
      ],
      "execution_count": 46,
      "outputs": [
        {
          "output_type": "stream",
          "text": [
            "<class 'tuple'>\n",
            "('AlSadr', ['Our Philosophy', 'Our Economy'])\n"
          ],
          "name": "stdout"
        }
      ]
    },
    {
      "cell_type": "markdown",
      "metadata": {
        "id": "QXpIrnU4BrmM",
        "colab_type": "text"
      },
      "source": [
        "# dictionaries from lists"
      ]
    },
    {
      "cell_type": "code",
      "metadata": {
        "id": "BsK7DrAtBV-r",
        "colab_type": "code",
        "colab": {
          "base_uri": "https://localhost:8080/",
          "height": 35
        },
        "outputId": "9a49117a-cc01-4b47-afe7-f164b4139c16"
      },
      "source": [
        "captials  = [\"Quetta\",      \"Karachi\", \"Peshawar\", \"Lahore\"]\n",
        "provinces = [\"Balochistan\", \"Sindh\",   \"KPK\",      \"Punjab\"]\n",
        "\n",
        "provinces_captials_iterator = zip(provinces, captials)\n",
        "\n",
        "provinces_captials_iterator"
      ],
      "execution_count": 47,
      "outputs": [
        {
          "output_type": "execute_result",
          "data": {
            "text/plain": [
              "<zip at 0x7fad9fb56608>"
            ]
          },
          "metadata": {
            "tags": []
          },
          "execution_count": 47
        }
      ]
    },
    {
      "cell_type": "code",
      "metadata": {
        "id": "lxr_uJXzB97d",
        "colab_type": "code",
        "colab": {
          "base_uri": "https://localhost:8080/",
          "height": 35
        },
        "outputId": "b36a2f74-48d5-4578-d661-bb410e4a24dd"
      },
      "source": [
        "provinces_captials = list(provinces_captials_iterator)\n",
        "print(provinces_captials)"
      ],
      "execution_count": 48,
      "outputs": [
        {
          "output_type": "stream",
          "text": [
            "[('Balochistan', 'Quetta'), ('Sindh', 'Karachi'), ('KPK', 'Peshawar'), ('Punjab', 'Lahore')]\n"
          ],
          "name": "stdout"
        }
      ]
    },
    {
      "cell_type": "code",
      "metadata": {
        "id": "Q8E4M9p2CDCi",
        "colab_type": "code",
        "colab": {
          "base_uri": "https://localhost:8080/",
          "height": 35
        },
        "outputId": "920184b8-21b0-4a7c-bc41-e186c5cf700b"
      },
      "source": [
        "provinces_captials_dict = dict(provinces_captials)\n",
        "print(provinces_captials_dict)"
      ],
      "execution_count": 49,
      "outputs": [
        {
          "output_type": "stream",
          "text": [
            "{'Balochistan': 'Quetta', 'Sindh': 'Karachi', 'KPK': 'Peshawar', 'Punjab': 'Lahore'}\n"
          ],
          "name": "stdout"
        }
      ]
    },
    {
      "cell_type": "code",
      "metadata": {
        "id": "LF8vzeO3CH7L",
        "colab_type": "code",
        "colab": {
          "base_uri": "https://localhost:8080/",
          "height": 90
        },
        "outputId": "a8765cab-c53c-47b6-960e-7eda6a039315"
      },
      "source": [
        "dict(zip(provinces, captials))"
      ],
      "execution_count": 50,
      "outputs": [
        {
          "output_type": "execute_result",
          "data": {
            "text/plain": [
              "{'Balochistan': 'Quetta',\n",
              " 'KPK': 'Peshawar',\n",
              " 'Punjab': 'Lahore',\n",
              " 'Sindh': 'Karachi'}"
            ]
          },
          "metadata": {
            "tags": []
          },
          "execution_count": 50
        }
      ]
    },
    {
      "cell_type": "code",
      "metadata": {
        "id": "ckbTouoLCQi8",
        "colab_type": "code",
        "colab": {
          "base_uri": "https://localhost:8080/",
          "height": 90
        },
        "outputId": "d097c5f2-13b7-4c66-8981-d1b9f7abcaf3"
      },
      "source": [
        "captials  = [\"Quetta\",      \"Karachi\", \"Peshawar\", \"Lahore\"]\n",
        "provinces = [\"Balochistan\", \"Sindh\",   \"KPK\",      \"Punjab\", \"FATA\"]\n",
        "\n",
        "dict(zip(provinces, captials))"
      ],
      "execution_count": 51,
      "outputs": [
        {
          "output_type": "execute_result",
          "data": {
            "text/plain": [
              "{'Balochistan': 'Quetta',\n",
              " 'KPK': 'Peshawar',\n",
              " 'Punjab': 'Lahore',\n",
              " 'Sindh': 'Karachi'}"
            ]
          },
          "metadata": {
            "tags": []
          },
          "execution_count": 51
        }
      ]
    },
    {
      "cell_type": "code",
      "metadata": {
        "id": "VtgrcTvDCymp",
        "colab_type": "code",
        "colab": {
          "base_uri": "https://localhost:8080/",
          "height": 35
        },
        "outputId": "c34b441f-913c-47e2-d6cf-1d726e72a70a"
      },
      "source": [
        "provinces_captials_dict = dict(list(zip([\"Balochistan\", \"Sindh\", \"KPK\", \"Punjab\"], [\"Quetta\", \"Karachi\", \"Peshawar\", \"Lahore\"])))\n",
        "\n",
        "print(provinces_captials_dict)"
      ],
      "execution_count": 52,
      "outputs": [
        {
          "output_type": "stream",
          "text": [
            "{'Balochistan': 'Quetta', 'Sindh': 'Karachi', 'KPK': 'Peshawar', 'Punjab': 'Lahore'}\n"
          ],
          "name": "stdout"
        }
      ]
    },
    {
      "cell_type": "markdown",
      "metadata": {
        "id": "BlMC--RuKAzr",
        "colab_type": "text"
      },
      "source": [
        "We can now merge two dictionaries with another method."
      ]
    },
    {
      "cell_type": "code",
      "metadata": {
        "id": "Jcz35C2vJaIA",
        "colab_type": "code",
        "colab": {
          "base_uri": "https://localhost:8080/",
          "height": 72
        },
        "outputId": "2255f806-528f-41c9-9b9d-467fdb4e6c74"
      },
      "source": [
        "old_books = {\"AlSadr\":  [\"Our Philosophy\", \"Our Economy\"],\n",
        "            \"Mutahri\":  [\"Divine Justice\", \"Man and Destiny\"]}\n",
        "       \n",
        "new_books = {\"Legenhausen\": [\"Religious pluralism\", \"Hegel's ethics\"]}\n",
        "\n",
        "books = dict(list(old_books.items()) + list(new_books.items()))\n",
        "books"
      ],
      "execution_count": 53,
      "outputs": [
        {
          "output_type": "execute_result",
          "data": {
            "text/plain": [
              "{'AlSadr': ['Our Philosophy', 'Our Economy'],\n",
              " 'Legenhausen': ['Religious pluralism', \"Hegel's ethics\"],\n",
              " 'Mutahri': ['Divine Justice', 'Man and Destiny']}"
            ]
          },
          "metadata": {
            "tags": []
          },
          "execution_count": 53
        }
      ]
    }
  ]
}