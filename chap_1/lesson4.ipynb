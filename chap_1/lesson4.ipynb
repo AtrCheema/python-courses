{
 "cells": [
  {
   "cell_type": "markdown",
   "metadata": {
    "collapsed": true
   },
   "source": [
    "# Methods \n",
    "forget for the time being what the word 'methods' mean in English  \n",
    "methods here mean `functions associated with class`\n",
    "\n",
    "\n",
    "Let's write a simple function which takes an `object` as input and prints the `name` attribute of that object"
   ]
  },
  {
   "cell_type": "code",
   "execution_count": null,
   "metadata": {
    "pycharm": {
     "name": "#%%\n"
    }
   },
   "outputs": [],
   "source": [
    "def salam(obj):\n",
    "    print(\"Salam, I am \" + obj.name + \"!\")"
   ]
  },
  {
   "cell_type": "markdown",
   "metadata": {
    "pycharm": {
     "name": "#%%\n"
    }
   },
   "source": [
    "We also define a simple class named `Insan` as we did in previous examples. "
   ]
  },
  {
   "cell_type": "code",
   "execution_count": null,
   "metadata": {},
   "outputs": [],
   "source": [
    "class Insan:\n",
    "    pass"
   ]
  },
  {
   "cell_type": "markdown",
   "metadata": {},
   "source": [
    "We can use the function `salam` by giving the isntance of class `Insan` -which is `x`- as input."
   ]
  },
  {
   "cell_type": "code",
   "execution_count": null,
   "metadata": {},
   "outputs": [],
   "source": [
    "x = Insan()\n",
    "x.name = \"Ali\"\n",
    "salam(x)  # >> Salam, I am Ali!"
   ]
  },
  {
   "cell_type": "markdown",
   "metadata": {},
   "source": [
    "`salam` is a function at this time, and we can verify this by checking its type"
   ]
  },
  {
   "cell_type": "code",
   "execution_count": null,
   "metadata": {},
   "outputs": [],
   "source": [
    "type(salam)"
   ]
  },
  {
   "cell_type": "markdown",
   "metadata": {},
   "source": [
    "but we can bind/link it to class `Insan` as following"
   ]
  },
  {
   "cell_type": "code",
   "execution_count": null,
   "metadata": {},
   "outputs": [],
   "source": [
    "def salam(obj):\n",
    "    print(\"Salam, I am \" + obj.name)\n",
    "\n",
    "class Insan:\n",
    "    taruf = salam"
   ]
  },
  {
   "cell_type": "markdown",
   "metadata": {},
   "source": [
    "Now we can make use of the function `salam` which is linked to class `Insan` as following"
   ]
  },
  {
   "cell_type": "code",
   "execution_count": null,
   "metadata": {},
   "outputs": [],
   "source": [
    "x = Insan()\n",
    "x.name = \"Ali\"\n",
    "Insan.taruf(x)"
   ]
  },
  {
   "cell_type": "code",
   "execution_count": null,
   "metadata": {},
   "outputs": [],
   "source": [
    "print(Insan.__dict__)"
   ]
  },
  {
   "cell_type": "markdown",
   "metadata": {},
   "source": [
    "taruf is a method and can be called as "
   ]
  },
  {
   "cell_type": "code",
   "execution_count": null,
   "metadata": {},
   "outputs": [],
   "source": [
    "x.taruf()"
   ]
  },
  {
   "cell_type": "markdown",
   "metadata": {},
   "source": [
    "so Insan.taruf and x.taruf are equivalent.\n",
    "\n",
    "In this case we defined the method outside the body of class `Insan` and then linked it to class  \n",
    "but this is not the usual way to define methods and the proper way is to define it inside the class(indented)\n",
    "\n",
    "We connect this function which is method now to the class by its first argument which is usually 'self'\n",
    "'self' corresponds to the 'Insan' object 'x' "
   ]
  },
  {
   "cell_type": "code",
   "execution_count": null,
   "metadata": {},
   "outputs": [],
   "source": [
    "class Insan:\n",
    "    def salam(self):\n",
    "        print(\"Salam, I am \" + self.name)\n",
    "\n",
    "    \n",
    "ali = Insan()\n",
    "ali.salam()"
   ]
  },
  {
   "cell_type": "code",
   "execution_count": null,
   "metadata": {},
   "outputs": [],
   "source": [
    "ali.__dict__"
   ]
  },
  {
   "cell_type": "markdown",
   "metadata": {},
   "source": [
    "The problem with above code is that the class `Insan` does not have an attribute `name`. So the class must have an\n",
    "attribute `name` before using the method `salam`. Lets defind the attribute before  using the method `salam`"
   ]
  },
  {
   "cell_type": "code",
   "execution_count": null,
   "metadata": {},
   "outputs": [],
   "source": [
    "class Insan:\n",
    "    def salam(self):\n",
    "        print(\"Salam, I am \" + self.name)\n",
    "\n",
    "    \n",
    "ali = Insan()\n",
    "ali.name = 'Ali'  # define an attribute of instance ali\n",
    "ali.salam()"
   ]
  },
  {
   "cell_type": "code",
   "execution_count": null,
   "metadata": {},
   "outputs": [],
   "source": [
    "ali.__dict__"
   ]
  },
  {
   "cell_type": "markdown",
   "metadata": {},
   "source": [
    "so whats the difference btw method and function?\n",
    "\n",
    "\n",
    "`self` is just a convention, we can use `this`, `apna` or any other keyword but it is better to just follow the convention so that others can follow your work"
   ]
  },
  {
   "cell_type": "code",
   "execution_count": null,
   "metadata": {},
   "outputs": [],
   "source": [
    "class Insan:\n",
    "    def salam(self):\n",
    "        print(\"Salam, I am \" + self.name)\n",
    "\n",
    "    \n",
    "ali = Insan()\n",
    "ali.name = 'Ali'  # define an attribute of instance ali\n",
    "ali.salam()"
   ]
  },
  {
   "cell_type": "markdown",
   "metadata": {},
   "source": [
    "As said earlier, defining class attributes outside class is not proper way and we need the class to have\n",
    "the attribute name before using the method `salam`. So we need a systematic way that the class, upon its creation\n",
    "(initialization) must have the attribuite `name`. This is done with `init` method, which we will learn in next lesson."
   ]
  }
 ],
 "metadata": {
  "kernelspec": {
   "display_name": "Python 3",
   "language": "python",
   "name": "python3"
  },
  "language_info": {
   "codemirror_mode": {
    "name": "ipython",
    "version": 3
   },
   "file_extension": ".py",
   "mimetype": "text/x-python",
   "name": "python",
   "nbconvert_exporter": "python",
   "pygments_lexer": "ipython3",
   "version": "3.7.3"
  },
  "pycharm": {
   "stem_cell": {
    "cell_type": "raw",
    "metadata": {
     "collapsed": false
    },
    "source": []
   }
  }
 },
 "nbformat": 4,
 "nbformat_minor": 1
}
