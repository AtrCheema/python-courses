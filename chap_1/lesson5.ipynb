{
 "cells": [
  {
   "cell_type": "markdown",
   "metadata": {},
   "source": [
    "# init Method\n",
    "This method is used to define the attributes of class which we want that a class has right upon its creation.\n",
    "\n",
    "This means the code in `init` method is executed at the time of creation of an instance of class.\n",
    "\n",
    "Thus we use `init` method to initiazlize the class, hence name `init`. \n",
    "\n",
    "It can be anywhere inisde class but convention is to put it at the top inside a class."
   ]
  },
  {
   "cell_type": "code",
   "execution_count": null,
   "metadata": {},
   "outputs": [],
   "source": [
    "class Insan:\n",
    "    def __init__(self):\n",
    "        self.legs = '2 legs'\n",
    "        print(\"__init__ method inside class is being executed!\")"
   ]
  },
  {
   "cell_type": "code",
   "execution_count": null,
   "metadata": {},
   "outputs": [],
   "source": [
    "x = Insan() \n",
    "x.legs"
   ]
  },
  {
   "cell_type": "markdown",
   "metadata": {},
   "source": [
    "we see we only created an instance of class (we call it initialization of\n",
    "an instance as well) and the code inside __init__ method (we don't use the word function for it anymore) got executed.\n",
    "\n",
    "\n",
    "\n",
    "the proper way to add 'taruf' method to our Insan class is:"
   ]
  },
  {
   "cell_type": "code",
   "execution_count": null,
   "metadata": {},
   "outputs": [],
   "source": [
    "class Insan:\n",
    " \n",
    "    def __init__(self, name=None, legs='2 legs'):\n",
    "        self.name = name   \n",
    "        self.legs = legs\n",
    "        \n",
    "    def taruf(self):\n",
    "        if self.name:\n",
    "            print(\"Salam, I am \" + self.name + ' and I have ' + self.legs)\n",
    "        else:\n",
    "            print(\"Salam, I am a Insan but my name has not yed been defined\"+ ' and I have ' + self.legs)"
   ]
  },
  {
   "cell_type": "code",
   "execution_count": null,
   "metadata": {},
   "outputs": [],
   "source": [
    "x = Insan()\n",
    "x.taruf()  # >> Salam, I am an Insan without a name\n"
   ]
  },
  {
   "cell_type": "code",
   "execution_count": null,
   "metadata": {},
   "outputs": [],
   "source": [
    "y = Insan(\"Ali\", legs= '1 leg')\n",
    "y.taruf()  # >> Salam, I am Ali"
   ]
  },
  {
   "cell_type": "markdown",
   "metadata": {},
   "source": [
    "notice how we passed the string `Ali` when we were creating class instance and got it transfered to the method 'taruf' without being explicitly doing it.  \n",
    "The method `taruf` takes no input arguments however it prints the value of `name` which we provided to it when we were creating the class instance `y`."
   ]
  },
  {
   "cell_type": "code",
   "execution_count": null,
   "metadata": {},
   "outputs": [],
   "source": [
    "# Let's create a new class instance and use a different name\n",
    "y = Insan(\"Hasan\")\n",
    "y.taruf()  # >> Salam, I am Hasan"
   ]
  },
  {
   "cell_type": "markdown",
   "metadata": {},
   "source": [
    "The attribute `name` is shared by the whole class and can be accessed anywhere in the class by using the word 'self.' at its start.\n",
    "\n",
    "This is because we initialized it inside init method."
   ]
  }
 ],
 "metadata": {
  "kernelspec": {
   "display_name": "Python 3",
   "language": "python",
   "name": "python3"
  },
  "language_info": {
   "codemirror_mode": {
    "name": "ipython",
    "version": 3
   },
   "file_extension": ".py",
   "mimetype": "text/x-python",
   "name": "python",
   "nbconvert_exporter": "python",
   "pygments_lexer": "ipython3",
   "version": "3.7.3"
  }
 },
 "nbformat": 4,
 "nbformat_minor": 2
}
